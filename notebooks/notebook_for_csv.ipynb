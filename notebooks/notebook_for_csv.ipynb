{
 "cells": [
  {
   "cell_type": "code",
   "execution_count": 1,
   "metadata": {},
   "outputs": [],
   "source": [
    "import matplotlib.pyplot as plt\n",
    "import seaborn as sns\n",
    "import numpy as np\n",
    "import pandas as pd\n",
    "import os\n",
    "\n",
    "import datetime\n",
    "import plotly.graph_objects as go\n",
    "from ipywidgets import widgets\n",
    "\n"
   ]
  },
  {
   "cell_type": "code",
   "execution_count": 2,
   "metadata": {},
   "outputs": [
    {
     "data": {
      "text/html": [
       "<div>\n",
       "<style scoped>\n",
       "    .dataframe tbody tr th:only-of-type {\n",
       "        vertical-align: middle;\n",
       "    }\n",
       "\n",
       "    .dataframe tbody tr th {\n",
       "        vertical-align: top;\n",
       "    }\n",
       "\n",
       "    .dataframe thead th {\n",
       "        text-align: right;\n",
       "    }\n",
       "</style>\n",
       "<table border=\"1\" class=\"dataframe\">\n",
       "  <thead>\n",
       "    <tr style=\"text-align: right;\">\n",
       "      <th></th>\n",
       "      <th>Div</th>\n",
       "      <th>Date</th>\n",
       "      <th>HomeTeam</th>\n",
       "      <th>AwayTeam</th>\n",
       "      <th>FTHG</th>\n",
       "      <th>FTAG</th>\n",
       "      <th>FTR</th>\n",
       "      <th>HTHG</th>\n",
       "      <th>HTAG</th>\n",
       "      <th>HTR</th>\n",
       "      <th>...</th>\n",
       "      <th>BbMxD</th>\n",
       "      <th>BbAvD</th>\n",
       "      <th>BbMxA</th>\n",
       "      <th>BbAvA</th>\n",
       "      <th>BbOU</th>\n",
       "      <th>BbMx&gt;2.5</th>\n",
       "      <th>BbAv&gt;2.5</th>\n",
       "      <th>BbMx&lt;2.5</th>\n",
       "      <th>BbAv&lt;2.5</th>\n",
       "      <th>BbAH</th>\n",
       "    </tr>\n",
       "  </thead>\n",
       "  <tbody>\n",
       "    <tr>\n",
       "      <th>0</th>\n",
       "      <td>SP1</td>\n",
       "      <td>23/08/14</td>\n",
       "      <td>Almeria</td>\n",
       "      <td>Espanol</td>\n",
       "      <td>1</td>\n",
       "      <td>1</td>\n",
       "      <td>D</td>\n",
       "      <td>0</td>\n",
       "      <td>0</td>\n",
       "      <td>D</td>\n",
       "      <td>...</td>\n",
       "      <td>3.35</td>\n",
       "      <td>3.18</td>\n",
       "      <td>2.90</td>\n",
       "      <td>2.75</td>\n",
       "      <td>44</td>\n",
       "      <td>2.34</td>\n",
       "      <td>2.23</td>\n",
       "      <td>1.70</td>\n",
       "      <td>1.64</td>\n",
       "      <td>26</td>\n",
       "    </tr>\n",
       "    <tr>\n",
       "      <th>1</th>\n",
       "      <td>SP1</td>\n",
       "      <td>23/08/14</td>\n",
       "      <td>Granada</td>\n",
       "      <td>La Coruna</td>\n",
       "      <td>2</td>\n",
       "      <td>1</td>\n",
       "      <td>H</td>\n",
       "      <td>0</td>\n",
       "      <td>1</td>\n",
       "      <td>A</td>\n",
       "      <td>...</td>\n",
       "      <td>3.45</td>\n",
       "      <td>3.23</td>\n",
       "      <td>4.40</td>\n",
       "      <td>3.99</td>\n",
       "      <td>36</td>\n",
       "      <td>2.61</td>\n",
       "      <td>2.43</td>\n",
       "      <td>1.61</td>\n",
       "      <td>1.54</td>\n",
       "      <td>24</td>\n",
       "    </tr>\n",
       "    <tr>\n",
       "      <th>2</th>\n",
       "      <td>SP1</td>\n",
       "      <td>23/08/14</td>\n",
       "      <td>Malaga</td>\n",
       "      <td>Ath Bilbao</td>\n",
       "      <td>1</td>\n",
       "      <td>0</td>\n",
       "      <td>H</td>\n",
       "      <td>1</td>\n",
       "      <td>0</td>\n",
       "      <td>H</td>\n",
       "      <td>...</td>\n",
       "      <td>3.40</td>\n",
       "      <td>3.23</td>\n",
       "      <td>2.80</td>\n",
       "      <td>2.55</td>\n",
       "      <td>45</td>\n",
       "      <td>2.14</td>\n",
       "      <td>2.02</td>\n",
       "      <td>1.85</td>\n",
       "      <td>1.77</td>\n",
       "      <td>26</td>\n",
       "    </tr>\n",
       "    <tr>\n",
       "      <th>3</th>\n",
       "      <td>SP1</td>\n",
       "      <td>23/08/14</td>\n",
       "      <td>Sevilla</td>\n",
       "      <td>Valencia</td>\n",
       "      <td>1</td>\n",
       "      <td>1</td>\n",
       "      <td>D</td>\n",
       "      <td>1</td>\n",
       "      <td>0</td>\n",
       "      <td>H</td>\n",
       "      <td>...</td>\n",
       "      <td>3.65</td>\n",
       "      <td>3.41</td>\n",
       "      <td>4.00</td>\n",
       "      <td>3.66</td>\n",
       "      <td>44</td>\n",
       "      <td>1.97</td>\n",
       "      <td>1.88</td>\n",
       "      <td>2.00</td>\n",
       "      <td>1.92</td>\n",
       "      <td>23</td>\n",
       "    </tr>\n",
       "    <tr>\n",
       "      <th>4</th>\n",
       "      <td>SP1</td>\n",
       "      <td>24/08/14</td>\n",
       "      <td>Barcelona</td>\n",
       "      <td>Elche</td>\n",
       "      <td>3</td>\n",
       "      <td>0</td>\n",
       "      <td>H</td>\n",
       "      <td>1</td>\n",
       "      <td>0</td>\n",
       "      <td>H</td>\n",
       "      <td>...</td>\n",
       "      <td>14.01</td>\n",
       "      <td>10.13</td>\n",
       "      <td>36.00</td>\n",
       "      <td>26.00</td>\n",
       "      <td>35</td>\n",
       "      <td>1.31</td>\n",
       "      <td>1.29</td>\n",
       "      <td>3.85</td>\n",
       "      <td>3.48</td>\n",
       "      <td>27</td>\n",
       "    </tr>\n",
       "    <tr>\n",
       "      <th>...</th>\n",
       "      <td>...</td>\n",
       "      <td>...</td>\n",
       "      <td>...</td>\n",
       "      <td>...</td>\n",
       "      <td>...</td>\n",
       "      <td>...</td>\n",
       "      <td>...</td>\n",
       "      <td>...</td>\n",
       "      <td>...</td>\n",
       "      <td>...</td>\n",
       "      <td>...</td>\n",
       "      <td>...</td>\n",
       "      <td>...</td>\n",
       "      <td>...</td>\n",
       "      <td>...</td>\n",
       "      <td>...</td>\n",
       "      <td>...</td>\n",
       "      <td>...</td>\n",
       "      <td>...</td>\n",
       "      <td>...</td>\n",
       "      <td>...</td>\n",
       "    </tr>\n",
       "    <tr>\n",
       "      <th>375</th>\n",
       "      <td>SP1</td>\n",
       "      <td>23/05/15</td>\n",
       "      <td>Granada</td>\n",
       "      <td>Ath Madrid</td>\n",
       "      <td>0</td>\n",
       "      <td>0</td>\n",
       "      <td>D</td>\n",
       "      <td>0</td>\n",
       "      <td>0</td>\n",
       "      <td>D</td>\n",
       "      <td>...</td>\n",
       "      <td>2.50</td>\n",
       "      <td>2.37</td>\n",
       "      <td>2.60</td>\n",
       "      <td>2.39</td>\n",
       "      <td>36</td>\n",
       "      <td>2.50</td>\n",
       "      <td>2.33</td>\n",
       "      <td>1.67</td>\n",
       "      <td>1.59</td>\n",
       "      <td>25</td>\n",
       "    </tr>\n",
       "    <tr>\n",
       "      <th>376</th>\n",
       "      <td>SP1</td>\n",
       "      <td>23/05/15</td>\n",
       "      <td>Levante</td>\n",
       "      <td>Elche</td>\n",
       "      <td>0</td>\n",
       "      <td>0</td>\n",
       "      <td>D</td>\n",
       "      <td>0</td>\n",
       "      <td>0</td>\n",
       "      <td>D</td>\n",
       "      <td>...</td>\n",
       "      <td>3.62</td>\n",
       "      <td>3.42</td>\n",
       "      <td>4.10</td>\n",
       "      <td>3.83</td>\n",
       "      <td>40</td>\n",
       "      <td>2.11</td>\n",
       "      <td>1.99</td>\n",
       "      <td>1.87</td>\n",
       "      <td>1.81</td>\n",
       "      <td>26</td>\n",
       "    </tr>\n",
       "    <tr>\n",
       "      <th>377</th>\n",
       "      <td>SP1</td>\n",
       "      <td>23/05/15</td>\n",
       "      <td>Malaga</td>\n",
       "      <td>Sevilla</td>\n",
       "      <td>2</td>\n",
       "      <td>3</td>\n",
       "      <td>A</td>\n",
       "      <td>0</td>\n",
       "      <td>0</td>\n",
       "      <td>D</td>\n",
       "      <td>...</td>\n",
       "      <td>4.00</td>\n",
       "      <td>3.73</td>\n",
       "      <td>2.21</td>\n",
       "      <td>2.13</td>\n",
       "      <td>37</td>\n",
       "      <td>1.60</td>\n",
       "      <td>1.48</td>\n",
       "      <td>2.70</td>\n",
       "      <td>2.60</td>\n",
       "      <td>25</td>\n",
       "    </tr>\n",
       "    <tr>\n",
       "      <th>378</th>\n",
       "      <td>SP1</td>\n",
       "      <td>23/05/15</td>\n",
       "      <td>Real Madrid</td>\n",
       "      <td>Getafe</td>\n",
       "      <td>7</td>\n",
       "      <td>3</td>\n",
       "      <td>H</td>\n",
       "      <td>3</td>\n",
       "      <td>3</td>\n",
       "      <td>D</td>\n",
       "      <td>...</td>\n",
       "      <td>12.00</td>\n",
       "      <td>9.49</td>\n",
       "      <td>29.00</td>\n",
       "      <td>20.36</td>\n",
       "      <td>29</td>\n",
       "      <td>1.22</td>\n",
       "      <td>1.18</td>\n",
       "      <td>5.40</td>\n",
       "      <td>4.51</td>\n",
       "      <td>22</td>\n",
       "    </tr>\n",
       "    <tr>\n",
       "      <th>379</th>\n",
       "      <td>SP1</td>\n",
       "      <td>23/05/15</td>\n",
       "      <td>Vallecano</td>\n",
       "      <td>Sociedad</td>\n",
       "      <td>2</td>\n",
       "      <td>4</td>\n",
       "      <td>A</td>\n",
       "      <td>1</td>\n",
       "      <td>2</td>\n",
       "      <td>A</td>\n",
       "      <td>...</td>\n",
       "      <td>4.12</td>\n",
       "      <td>3.78</td>\n",
       "      <td>4.40</td>\n",
       "      <td>3.90</td>\n",
       "      <td>37</td>\n",
       "      <td>1.55</td>\n",
       "      <td>1.50</td>\n",
       "      <td>2.70</td>\n",
       "      <td>2.53</td>\n",
       "      <td>26</td>\n",
       "    </tr>\n",
       "  </tbody>\n",
       "</table>\n",
       "<p>380 rows × 59 columns</p>\n",
       "</div>"
      ],
      "text/plain": [
       "     Div      Date     HomeTeam    AwayTeam  FTHG  FTAG FTR  HTHG  HTAG HTR  \\\n",
       "0    SP1  23/08/14      Almeria     Espanol     1     1   D     0     0   D   \n",
       "1    SP1  23/08/14      Granada   La Coruna     2     1   H     0     1   A   \n",
       "2    SP1  23/08/14       Malaga  Ath Bilbao     1     0   H     1     0   H   \n",
       "3    SP1  23/08/14      Sevilla    Valencia     1     1   D     1     0   H   \n",
       "4    SP1  24/08/14    Barcelona       Elche     3     0   H     1     0   H   \n",
       "..   ...       ...          ...         ...   ...   ...  ..   ...   ...  ..   \n",
       "375  SP1  23/05/15      Granada  Ath Madrid     0     0   D     0     0   D   \n",
       "376  SP1  23/05/15      Levante       Elche     0     0   D     0     0   D   \n",
       "377  SP1  23/05/15       Malaga     Sevilla     2     3   A     0     0   D   \n",
       "378  SP1  23/05/15  Real Madrid      Getafe     7     3   H     3     3   D   \n",
       "379  SP1  23/05/15    Vallecano    Sociedad     2     4   A     1     2   A   \n",
       "\n",
       "     ...  BbMxD  BbAvD  BbMxA  BbAvA  BbOU  BbMx>2.5  BbAv>2.5  BbMx<2.5  \\\n",
       "0    ...   3.35   3.18   2.90   2.75    44      2.34      2.23      1.70   \n",
       "1    ...   3.45   3.23   4.40   3.99    36      2.61      2.43      1.61   \n",
       "2    ...   3.40   3.23   2.80   2.55    45      2.14      2.02      1.85   \n",
       "3    ...   3.65   3.41   4.00   3.66    44      1.97      1.88      2.00   \n",
       "4    ...  14.01  10.13  36.00  26.00    35      1.31      1.29      3.85   \n",
       "..   ...    ...    ...    ...    ...   ...       ...       ...       ...   \n",
       "375  ...   2.50   2.37   2.60   2.39    36      2.50      2.33      1.67   \n",
       "376  ...   3.62   3.42   4.10   3.83    40      2.11      1.99      1.87   \n",
       "377  ...   4.00   3.73   2.21   2.13    37      1.60      1.48      2.70   \n",
       "378  ...  12.00   9.49  29.00  20.36    29      1.22      1.18      5.40   \n",
       "379  ...   4.12   3.78   4.40   3.90    37      1.55      1.50      2.70   \n",
       "\n",
       "     BbAv<2.5  BbAH  \n",
       "0        1.64    26  \n",
       "1        1.54    24  \n",
       "2        1.77    26  \n",
       "3        1.92    23  \n",
       "4        3.48    27  \n",
       "..        ...   ...  \n",
       "375      1.59    25  \n",
       "376      1.81    26  \n",
       "377      2.60    25  \n",
       "378      4.51    22  \n",
       "379      2.53    26  \n",
       "\n",
       "[380 rows x 59 columns]"
      ]
     },
     "execution_count": 2,
     "metadata": {},
     "output_type": "execute_result"
    }
   ],
   "source": [
    "pd.read_csv('../raw_data/LIGA/season-1415_csv.csv').loc[:, 'Div':'BbAH']"
   ]
  },
  {
   "cell_type": "code",
   "execution_count": 3,
   "metadata": {},
   "outputs": [],
   "source": [
    "league = ['BundesLiga','LIGA','Ligue1','PL','SerieA']"
   ]
  },
  {
   "cell_type": "code",
   "execution_count": 4,
   "metadata": {},
   "outputs": [],
   "source": [
    "#directory_in_str = '/Users/antoinelemaire/code/Zorix9/beat_the_bookies/raw_data/LIGA'\n",
    "directory_in_str = '../raw_data/LIGA'\n",
    "directory = os.fsencode(directory_in_str)\n",
    "\n",
    "list_df = [ pd.read_csv(directory_in_str+'/'+os.fsdecode(file)) for file in os.listdir(directory) if os.fsdecode(file).endswith('.csv')]\n",
    "#print(f'{count} seasons in the dataframe')"
   ]
  },
  {
   "cell_type": "code",
   "execution_count": 5,
   "metadata": {},
   "outputs": [
    {
     "data": {
      "text/plain": [
       "array(['Betis', 'Girona', 'Barcelona', 'Celta', 'Villarreal', 'Eibar',\n",
       "       'Real Madrid', 'Vallecano', 'Ath Bilbao', 'Valencia', 'Getafe',\n",
       "       'Leganes', 'Alaves', 'Ath Madrid', 'Valladolid', 'Espanol',\n",
       "       'Sevilla', 'Levante', 'Huesca', 'Sociedad'], dtype=object)"
      ]
     },
     "execution_count": 5,
     "metadata": {},
     "output_type": "execute_result"
    }
   ],
   "source": [
    "list_df[0][('HomeTeam')].unique()"
   ]
  },
  {
   "cell_type": "code",
   "execution_count": 6,
   "metadata": {},
   "outputs": [],
   "source": [
    "for df in list_df:\n",
    "    df['FTR_home'] = df['FTR'].apply(lambda x: 'Win' if str(x) == 'H' else ('Lose' if str(x) =='A' else 'Draw'))\n",
    "    df['FTR_away'] = df['FTR'].apply(lambda x: 'Lose' if str(x) == 'H' else ('Win' if str(x)=='A' else 'Draw'))"
   ]
  },
  {
   "cell_type": "code",
   "execution_count": 7,
   "metadata": {},
   "outputs": [
    {
     "data": {
      "text/html": [
       "<div>\n",
       "<style scoped>\n",
       "    .dataframe tbody tr th:only-of-type {\n",
       "        vertical-align: middle;\n",
       "    }\n",
       "\n",
       "    .dataframe tbody tr th {\n",
       "        vertical-align: top;\n",
       "    }\n",
       "\n",
       "    .dataframe thead th {\n",
       "        text-align: right;\n",
       "    }\n",
       "</style>\n",
       "<table border=\"1\" class=\"dataframe\">\n",
       "  <thead>\n",
       "    <tr style=\"text-align: right;\">\n",
       "      <th></th>\n",
       "      <th>Div</th>\n",
       "      <th>Date</th>\n",
       "      <th>HomeTeam</th>\n",
       "      <th>AwayTeam</th>\n",
       "      <th>FTHG</th>\n",
       "      <th>FTAG</th>\n",
       "      <th>FTR</th>\n",
       "      <th>HTHG</th>\n",
       "      <th>HTAG</th>\n",
       "      <th>HTR</th>\n",
       "      <th>...</th>\n",
       "      <th>BbAHh</th>\n",
       "      <th>BbMxAHH</th>\n",
       "      <th>BbAvAHH</th>\n",
       "      <th>BbMxAHA</th>\n",
       "      <th>BbAvAHA</th>\n",
       "      <th>PSCH</th>\n",
       "      <th>PSCD</th>\n",
       "      <th>PSCA</th>\n",
       "      <th>FTR_home</th>\n",
       "      <th>FTR_away</th>\n",
       "    </tr>\n",
       "  </thead>\n",
       "  <tbody>\n",
       "    <tr>\n",
       "      <th>0</th>\n",
       "      <td>SP1</td>\n",
       "      <td>17/08/2018</td>\n",
       "      <td>Betis</td>\n",
       "      <td>Levante</td>\n",
       "      <td>0</td>\n",
       "      <td>3</td>\n",
       "      <td>A</td>\n",
       "      <td>0</td>\n",
       "      <td>1</td>\n",
       "      <td>A</td>\n",
       "      <td>...</td>\n",
       "      <td>-0.75</td>\n",
       "      <td>1.89</td>\n",
       "      <td>1.85</td>\n",
       "      <td>2.07</td>\n",
       "      <td>2.00</td>\n",
       "      <td>1.59</td>\n",
       "      <td>4.42</td>\n",
       "      <td>5.89</td>\n",
       "      <td>Lose</td>\n",
       "      <td>Win</td>\n",
       "    </tr>\n",
       "    <tr>\n",
       "      <th>1</th>\n",
       "      <td>SP1</td>\n",
       "      <td>17/08/2018</td>\n",
       "      <td>Girona</td>\n",
       "      <td>Valladolid</td>\n",
       "      <td>0</td>\n",
       "      <td>0</td>\n",
       "      <td>D</td>\n",
       "      <td>0</td>\n",
       "      <td>0</td>\n",
       "      <td>D</td>\n",
       "      <td>...</td>\n",
       "      <td>-0.75</td>\n",
       "      <td>2.06</td>\n",
       "      <td>2.01</td>\n",
       "      <td>1.90</td>\n",
       "      <td>1.85</td>\n",
       "      <td>1.76</td>\n",
       "      <td>3.57</td>\n",
       "      <td>5.62</td>\n",
       "      <td>Draw</td>\n",
       "      <td>Draw</td>\n",
       "    </tr>\n",
       "    <tr>\n",
       "      <th>2</th>\n",
       "      <td>SP1</td>\n",
       "      <td>18/08/2018</td>\n",
       "      <td>Barcelona</td>\n",
       "      <td>Alaves</td>\n",
       "      <td>3</td>\n",
       "      <td>0</td>\n",
       "      <td>H</td>\n",
       "      <td>0</td>\n",
       "      <td>0</td>\n",
       "      <td>D</td>\n",
       "      <td>...</td>\n",
       "      <td>-2.50</td>\n",
       "      <td>1.95</td>\n",
       "      <td>1.91</td>\n",
       "      <td>2.00</td>\n",
       "      <td>1.95</td>\n",
       "      <td>1.10</td>\n",
       "      <td>11.85</td>\n",
       "      <td>32.17</td>\n",
       "      <td>Win</td>\n",
       "      <td>Lose</td>\n",
       "    </tr>\n",
       "    <tr>\n",
       "      <th>3</th>\n",
       "      <td>SP1</td>\n",
       "      <td>18/08/2018</td>\n",
       "      <td>Celta</td>\n",
       "      <td>Espanol</td>\n",
       "      <td>1</td>\n",
       "      <td>1</td>\n",
       "      <td>D</td>\n",
       "      <td>0</td>\n",
       "      <td>1</td>\n",
       "      <td>A</td>\n",
       "      <td>...</td>\n",
       "      <td>-0.75</td>\n",
       "      <td>2.26</td>\n",
       "      <td>2.18</td>\n",
       "      <td>1.74</td>\n",
       "      <td>1.71</td>\n",
       "      <td>2.18</td>\n",
       "      <td>3.26</td>\n",
       "      <td>3.85</td>\n",
       "      <td>Draw</td>\n",
       "      <td>Draw</td>\n",
       "    </tr>\n",
       "    <tr>\n",
       "      <th>4</th>\n",
       "      <td>SP1</td>\n",
       "      <td>18/08/2018</td>\n",
       "      <td>Villarreal</td>\n",
       "      <td>Sociedad</td>\n",
       "      <td>1</td>\n",
       "      <td>2</td>\n",
       "      <td>A</td>\n",
       "      <td>1</td>\n",
       "      <td>1</td>\n",
       "      <td>D</td>\n",
       "      <td>...</td>\n",
       "      <td>-0.25</td>\n",
       "      <td>1.76</td>\n",
       "      <td>1.74</td>\n",
       "      <td>2.23</td>\n",
       "      <td>2.14</td>\n",
       "      <td>2.32</td>\n",
       "      <td>3.21</td>\n",
       "      <td>3.53</td>\n",
       "      <td>Lose</td>\n",
       "      <td>Win</td>\n",
       "    </tr>\n",
       "  </tbody>\n",
       "</table>\n",
       "<p>5 rows × 63 columns</p>\n",
       "</div>"
      ],
      "text/plain": [
       "   Div        Date    HomeTeam    AwayTeam  FTHG  FTAG FTR  HTHG  HTAG HTR  \\\n",
       "0  SP1  17/08/2018       Betis     Levante     0     3   A     0     1   A   \n",
       "1  SP1  17/08/2018      Girona  Valladolid     0     0   D     0     0   D   \n",
       "2  SP1  18/08/2018   Barcelona      Alaves     3     0   H     0     0   D   \n",
       "3  SP1  18/08/2018       Celta     Espanol     1     1   D     0     1   A   \n",
       "4  SP1  18/08/2018  Villarreal    Sociedad     1     2   A     1     1   D   \n",
       "\n",
       "   ...  BbAHh  BbMxAHH  BbAvAHH  BbMxAHA  BbAvAHA  PSCH   PSCD   PSCA  \\\n",
       "0  ...  -0.75     1.89     1.85     2.07     2.00  1.59   4.42   5.89   \n",
       "1  ...  -0.75     2.06     2.01     1.90     1.85  1.76   3.57   5.62   \n",
       "2  ...  -2.50     1.95     1.91     2.00     1.95  1.10  11.85  32.17   \n",
       "3  ...  -0.75     2.26     2.18     1.74     1.71  2.18   3.26   3.85   \n",
       "4  ...  -0.25     1.76     1.74     2.23     2.14  2.32   3.21   3.53   \n",
       "\n",
       "   FTR_home  FTR_away  \n",
       "0      Lose       Win  \n",
       "1      Draw      Draw  \n",
       "2       Win      Lose  \n",
       "3      Draw      Draw  \n",
       "4      Lose       Win  \n",
       "\n",
       "[5 rows x 63 columns]"
      ]
     },
     "execution_count": 7,
     "metadata": {},
     "output_type": "execute_result"
    }
   ],
   "source": [
    "list_df[0].head()"
   ]
  },
  {
   "cell_type": "markdown",
   "metadata": {},
   "source": [
    "# 1. Visualisation"
   ]
  },
  {
   "cell_type": "code",
   "execution_count": 8,
   "metadata": {},
   "outputs": [],
   "source": [
    "team_stats = widgets.Dropdown(\n",
    "    description='Teams:   ',\n",
    "    value='Ath Madrid',\n",
    "    options=list_df[4]['HomeTeam'].unique().tolist()\n",
    ")\n",
    "\n",
    "\n",
    "# Assign an empty figure widget with two traces\n",
    "trace1 = go.Histogram(x=df['FTR_home'], opacity=0.75, name='Result at home over the year')\n",
    "trace2 = go.Histogram(x=df['FTR_away'], opacity=0.75, name='Result away over the year')\n",
    "g = go.FigureWidget(data=[trace1,trace2],\n",
    "                    layout=go.Layout(\n",
    "                        title=dict(\n",
    "                            text='Team result'\n",
    "                        ),\n",
    "                        barmode='overlay'\n",
    "                    ))"
   ]
  },
  {
   "cell_type": "code",
   "execution_count": 9,
   "metadata": {},
   "outputs": [],
   "source": [
    "def validate():\n",
    "    if team_stats.value in list_df[4]['HomeTeam'].unique():\n",
    "        return True\n",
    "    else:\n",
    "        return False\n",
    "\n",
    "def response(change):\n",
    "    if validate():\n",
    "        filter_list = [i for i in\n",
    "                        df['HomeTeam'] == team_stats.value]\n",
    "        temp_df = df[filter_list]\n",
    "        x1 = temp_df['FTR_home']\n",
    "        x2 = temp_df['FTR_away']\n",
    "        with g.batch_update():\n",
    "            g.data[0].x = x1\n",
    "            g.data[1].x = x2\n",
    "            g.layout.barmode = 'overlay'\n",
    "            g.layout.xaxis.title = 'Result'\n",
    "            g.layout.yaxis.title = 'Number of matchs'    "
   ]
  },
  {
   "cell_type": "code",
   "execution_count": 10,
   "metadata": {},
   "outputs": [],
   "source": [
    "team_stats.observe(response, names='value')"
   ]
  },
  {
   "cell_type": "code",
   "execution_count": 11,
   "metadata": {},
   "outputs": [
    {
     "data": {
      "application/vnd.jupyter.widget-view+json": {
       "model_id": "2c636d3123494e109a561dc605ba8dfb",
       "version_major": 2,
       "version_minor": 0
      },
      "text/plain": [
       "VBox(children=(HBox(children=(Dropdown(description='Teams:   ', index=1, options=('Malaga', 'Ath Madrid', 'Esp…"
      ]
     },
     "execution_count": 11,
     "metadata": {},
     "output_type": "execute_result"
    }
   ],
   "source": [
    "container2 = widgets.HBox([team_stats])\n",
    "widgets.VBox([container2,\n",
    "              g])"
   ]
  },
  {
   "cell_type": "markdown",
   "metadata": {},
   "source": [
    "# 1.1 Visualisation that works better\n"
   ]
  },
  {
   "cell_type": "code",
   "execution_count": 12,
   "metadata": {},
   "outputs": [
    {
     "data": {
      "text/html": [
       "<div>\n",
       "<style scoped>\n",
       "    .dataframe tbody tr th:only-of-type {\n",
       "        vertical-align: middle;\n",
       "    }\n",
       "\n",
       "    .dataframe tbody tr th {\n",
       "        vertical-align: top;\n",
       "    }\n",
       "\n",
       "    .dataframe thead th {\n",
       "        text-align: right;\n",
       "    }\n",
       "</style>\n",
       "<table border=\"1\" class=\"dataframe\">\n",
       "  <thead>\n",
       "    <tr style=\"text-align: right;\">\n",
       "      <th></th>\n",
       "      <th>Div</th>\n",
       "      <th>Date</th>\n",
       "      <th>HomeTeam</th>\n",
       "      <th>AwayTeam</th>\n",
       "      <th>FTHG</th>\n",
       "      <th>FTAG</th>\n",
       "      <th>FTR</th>\n",
       "      <th>HTHG</th>\n",
       "      <th>HTAG</th>\n",
       "      <th>HTR</th>\n",
       "      <th>...</th>\n",
       "      <th>BbMx&lt;2.5</th>\n",
       "      <th>BbAv&lt;2.5</th>\n",
       "      <th>BbAH</th>\n",
       "      <th>BbAHh</th>\n",
       "      <th>BbMxAHH</th>\n",
       "      <th>BbAvAHH</th>\n",
       "      <th>BbMxAHA</th>\n",
       "      <th>BbAvAHA</th>\n",
       "      <th>FTR_home</th>\n",
       "      <th>FTR_away</th>\n",
       "    </tr>\n",
       "  </thead>\n",
       "  <tbody>\n",
       "    <tr>\n",
       "      <th>0</th>\n",
       "      <td>SP1</td>\n",
       "      <td>2009-08-29</td>\n",
       "      <td>Real Madrid</td>\n",
       "      <td>La Coruna</td>\n",
       "      <td>3</td>\n",
       "      <td>2</td>\n",
       "      <td>H</td>\n",
       "      <td>2</td>\n",
       "      <td>1</td>\n",
       "      <td>H</td>\n",
       "      <td>...</td>\n",
       "      <td>2.90</td>\n",
       "      <td>2.53</td>\n",
       "      <td>19</td>\n",
       "      <td>0.0</td>\n",
       "      <td>9.00</td>\n",
       "      <td>1.92</td>\n",
       "      <td>11.00</td>\n",
       "      <td>8.69</td>\n",
       "      <td>Win</td>\n",
       "      <td>Lose</td>\n",
       "    </tr>\n",
       "    <tr>\n",
       "      <th>1</th>\n",
       "      <td>SP1</td>\n",
       "      <td>2009-08-29</td>\n",
       "      <td>Zaragoza</td>\n",
       "      <td>Tenerife</td>\n",
       "      <td>1</td>\n",
       "      <td>0</td>\n",
       "      <td>H</td>\n",
       "      <td>0</td>\n",
       "      <td>0</td>\n",
       "      <td>D</td>\n",
       "      <td>...</td>\n",
       "      <td>1.91</td>\n",
       "      <td>1.79</td>\n",
       "      <td>18</td>\n",
       "      <td>0.0</td>\n",
       "      <td>1.38</td>\n",
       "      <td>1.36</td>\n",
       "      <td>3.20</td>\n",
       "      <td>3.01</td>\n",
       "      <td>Win</td>\n",
       "      <td>Lose</td>\n",
       "    </tr>\n",
       "    <tr>\n",
       "      <th>2</th>\n",
       "      <td>SP1</td>\n",
       "      <td>2009-08-30</td>\n",
       "      <td>Almeria</td>\n",
       "      <td>Valladolid</td>\n",
       "      <td>0</td>\n",
       "      <td>0</td>\n",
       "      <td>D</td>\n",
       "      <td>0</td>\n",
       "      <td>0</td>\n",
       "      <td>D</td>\n",
       "      <td>...</td>\n",
       "      <td>1.83</td>\n",
       "      <td>1.74</td>\n",
       "      <td>19</td>\n",
       "      <td>0.0</td>\n",
       "      <td>1.62</td>\n",
       "      <td>1.54</td>\n",
       "      <td>2.54</td>\n",
       "      <td>2.41</td>\n",
       "      <td>Draw</td>\n",
       "      <td>Draw</td>\n",
       "    </tr>\n",
       "    <tr>\n",
       "      <th>3</th>\n",
       "      <td>SP1</td>\n",
       "      <td>2009-08-30</td>\n",
       "      <td>Ath Bilbao</td>\n",
       "      <td>Espanol</td>\n",
       "      <td>1</td>\n",
       "      <td>0</td>\n",
       "      <td>H</td>\n",
       "      <td>0</td>\n",
       "      <td>0</td>\n",
       "      <td>D</td>\n",
       "      <td>...</td>\n",
       "      <td>1.81</td>\n",
       "      <td>1.74</td>\n",
       "      <td>19</td>\n",
       "      <td>0.0</td>\n",
       "      <td>1.66</td>\n",
       "      <td>1.58</td>\n",
       "      <td>2.47</td>\n",
       "      <td>2.30</td>\n",
       "      <td>Win</td>\n",
       "      <td>Lose</td>\n",
       "    </tr>\n",
       "    <tr>\n",
       "      <th>4</th>\n",
       "      <td>SP1</td>\n",
       "      <td>2009-08-30</td>\n",
       "      <td>Malaga</td>\n",
       "      <td>Ath Madrid</td>\n",
       "      <td>3</td>\n",
       "      <td>0</td>\n",
       "      <td>H</td>\n",
       "      <td>1</td>\n",
       "      <td>0</td>\n",
       "      <td>H</td>\n",
       "      <td>...</td>\n",
       "      <td>2.13</td>\n",
       "      <td>1.96</td>\n",
       "      <td>18</td>\n",
       "      <td>0.0</td>\n",
       "      <td>2.60</td>\n",
       "      <td>2.45</td>\n",
       "      <td>1.58</td>\n",
       "      <td>1.51</td>\n",
       "      <td>Win</td>\n",
       "      <td>Lose</td>\n",
       "    </tr>\n",
       "  </tbody>\n",
       "</table>\n",
       "<p>5 rows × 72 columns</p>\n",
       "</div>"
      ],
      "text/plain": [
       "   Div        Date     HomeTeam    AwayTeam  FTHG  FTAG FTR  HTHG  HTAG HTR  \\\n",
       "0  SP1  2009-08-29  Real Madrid   La Coruna     3     2   H     2     1   H   \n",
       "1  SP1  2009-08-29     Zaragoza    Tenerife     1     0   H     0     0   D   \n",
       "2  SP1  2009-08-30      Almeria  Valladolid     0     0   D     0     0   D   \n",
       "3  SP1  2009-08-30   Ath Bilbao     Espanol     1     0   H     0     0   D   \n",
       "4  SP1  2009-08-30       Malaga  Ath Madrid     3     0   H     1     0   H   \n",
       "\n",
       "   ...  BbMx<2.5  BbAv<2.5  BbAH  BbAHh  BbMxAHH  BbAvAHH  BbMxAHA  BbAvAHA  \\\n",
       "0  ...      2.90      2.53    19    0.0     9.00     1.92    11.00     8.69   \n",
       "1  ...      1.91      1.79    18    0.0     1.38     1.36     3.20     3.01   \n",
       "2  ...      1.83      1.74    19    0.0     1.62     1.54     2.54     2.41   \n",
       "3  ...      1.81      1.74    19    0.0     1.66     1.58     2.47     2.30   \n",
       "4  ...      2.13      1.96    18    0.0     2.60     2.45     1.58     1.51   \n",
       "\n",
       "   FTR_home  FTR_away  \n",
       "0       Win      Lose  \n",
       "1       Win      Lose  \n",
       "2      Draw      Draw  \n",
       "3       Win      Lose  \n",
       "4       Win      Lose  \n",
       "\n",
       "[5 rows x 72 columns]"
      ]
     },
     "execution_count": 12,
     "metadata": {},
     "output_type": "execute_result"
    }
   ],
   "source": [
    "df.head()"
   ]
  },
  {
   "cell_type": "code",
   "execution_count": 13,
   "metadata": {},
   "outputs": [],
   "source": [
    "list_season = ['09-10','10-11','11-12','12-13','13-14','14-15','15-16','16-17','17-18','18-19']"
   ]
  },
  {
   "cell_type": "code",
   "execution_count": 14,
   "metadata": {},
   "outputs": [],
   "source": [
    "def bar_plt(season, team):\n",
    "    ## season choice \n",
    "    dico = dict(zip(list_season[::-1],range(0,10)))\n",
    "    df = list_df[dico[season]]\n",
    "    ## for the home games\n",
    "    try:\n",
    "        filter_list = [i for i in\n",
    "                        df['HomeTeam'] == team]\n",
    "        temp_df = df[filter_list]\n",
    "        x1 = temp_df['FTR_home']\n",
    "\n",
    "        ## for the away games\n",
    "        filter_list_away = [i for i in\n",
    "                        df['AwayTeam'] == team]\n",
    "        temp_df_away = df[filter_list_away]\n",
    "        x2 = temp_df_away['FTR_away']\n",
    "\n",
    "        x = ['Win','Draw','Lose']\n",
    "        x_axis = np.arange(3)\n",
    "\n",
    "        plt.bar(x_axis + 0.21,x1.value_counts()[['Win','Draw','Lose']],0.4,label='Home Games')\n",
    "        plt.bar(x_axis - 0.21,x2.value_counts()[['Win','Draw','Lose']],0.4,label='Away Games')\n",
    "\n",
    "\n",
    "        plt.xticks(x_axis, x)\n",
    "        plt.xlabel(\"Result\")\n",
    "        plt.ylabel(\"Number of matches\")\n",
    "        plt.title(f\"Result of {team} over the season {season}\")\n",
    "        plt.legend()\n",
    "        plt.ylim([0,17])\n",
    "    except:\n",
    "        print(f'{team} wasnt playing during the year {season}')\n",
    "    #plt.show()\n",
    "    \n",
    "    "
   ]
  },
  {
   "cell_type": "code",
   "execution_count": 16,
   "metadata": {},
   "outputs": [
    {
     "data": {
      "application/vnd.jupyter.widget-view+json": {
       "model_id": "f1bd193a0d6c426e93907610f8deaadb",
       "version_major": 2,
       "version_minor": 0
      },
      "text/plain": [
       "interactive(children=(Dropdown(description='season', options=('09-10', '10-11', '11-12', '12-13', '13-14', '14…"
      ]
     },
     "metadata": {},
     "output_type": "display_data"
    }
   ],
   "source": [
    "widgets.interact(bar_plt,season=list_season,team=list(df['HomeTeam'].unique()));\n",
    "#widgets.interact(bar_plt,season=list_season,team=['Ath Madrid','Real Madrid']);"
   ]
  },
  {
   "cell_type": "markdown",
   "metadata": {},
   "source": [
    "# 1.2 Statistics of the teams"
   ]
  },
  {
   "cell_type": "code",
   "execution_count": 17,
   "metadata": {},
   "outputs": [],
   "source": [
    "for df in list_df:\n",
    "    df['Home_point'] = df['FTR'].apply(lambda x: 3 if str(x) == 'H' else (0 if str(x) =='A' else 1))\n",
    "    df['Away_point'] = df['FTR'].apply(lambda x: 0 if str(x) == 'H' else (3 if str(x)=='A' else 1))"
   ]
  },
  {
   "cell_type": "markdown",
   "metadata": {},
   "source": [
    "## 1.2.1 test classement"
   ]
  },
  {
   "cell_type": "code",
   "execution_count": 18,
   "metadata": {},
   "outputs": [
    {
     "data": {
      "text/html": [
       "<div>\n",
       "<style scoped>\n",
       "    .dataframe tbody tr th:only-of-type {\n",
       "        vertical-align: middle;\n",
       "    }\n",
       "\n",
       "    .dataframe tbody tr th {\n",
       "        vertical-align: top;\n",
       "    }\n",
       "\n",
       "    .dataframe thead th {\n",
       "        text-align: right;\n",
       "    }\n",
       "</style>\n",
       "<table border=\"1\" class=\"dataframe\">\n",
       "  <thead>\n",
       "    <tr style=\"text-align: right;\">\n",
       "      <th></th>\n",
       "      <th>Div</th>\n",
       "      <th>Date</th>\n",
       "      <th>HomeTeam</th>\n",
       "      <th>AwayTeam</th>\n",
       "      <th>FTHG</th>\n",
       "      <th>FTAG</th>\n",
       "      <th>FTR</th>\n",
       "      <th>HTHG</th>\n",
       "      <th>HTAG</th>\n",
       "      <th>HTR</th>\n",
       "      <th>...</th>\n",
       "      <th>BbAvAHH</th>\n",
       "      <th>BbMxAHA</th>\n",
       "      <th>BbAvAHA</th>\n",
       "      <th>PSCH</th>\n",
       "      <th>PSCD</th>\n",
       "      <th>PSCA</th>\n",
       "      <th>FTR_home</th>\n",
       "      <th>FTR_away</th>\n",
       "      <th>Home_point</th>\n",
       "      <th>Away_point</th>\n",
       "    </tr>\n",
       "  </thead>\n",
       "  <tbody>\n",
       "    <tr>\n",
       "      <th>0</th>\n",
       "      <td>SP1</td>\n",
       "      <td>18/08/12</td>\n",
       "      <td>Celta</td>\n",
       "      <td>Malaga</td>\n",
       "      <td>0</td>\n",
       "      <td>1</td>\n",
       "      <td>A</td>\n",
       "      <td>0</td>\n",
       "      <td>0</td>\n",
       "      <td>D</td>\n",
       "      <td>...</td>\n",
       "      <td>1.96</td>\n",
       "      <td>1.98</td>\n",
       "      <td>1.91</td>\n",
       "      <td>2.35</td>\n",
       "      <td>3.45</td>\n",
       "      <td>3.29</td>\n",
       "      <td>Lose</td>\n",
       "      <td>Win</td>\n",
       "      <td>0</td>\n",
       "      <td>3</td>\n",
       "    </tr>\n",
       "    <tr>\n",
       "      <th>1</th>\n",
       "      <td>SP1</td>\n",
       "      <td>18/08/12</td>\n",
       "      <td>Mallorca</td>\n",
       "      <td>Espanol</td>\n",
       "      <td>2</td>\n",
       "      <td>1</td>\n",
       "      <td>H</td>\n",
       "      <td>1</td>\n",
       "      <td>1</td>\n",
       "      <td>D</td>\n",
       "      <td>...</td>\n",
       "      <td>1.98</td>\n",
       "      <td>1.95</td>\n",
       "      <td>1.90</td>\n",
       "      <td>2.25</td>\n",
       "      <td>3.33</td>\n",
       "      <td>3.63</td>\n",
       "      <td>Win</td>\n",
       "      <td>Lose</td>\n",
       "      <td>3</td>\n",
       "      <td>0</td>\n",
       "    </tr>\n",
       "    <tr>\n",
       "      <th>2</th>\n",
       "      <td>SP1</td>\n",
       "      <td>18/08/12</td>\n",
       "      <td>Sevilla</td>\n",
       "      <td>Getafe</td>\n",
       "      <td>2</td>\n",
       "      <td>1</td>\n",
       "      <td>H</td>\n",
       "      <td>2</td>\n",
       "      <td>0</td>\n",
       "      <td>H</td>\n",
       "      <td>...</td>\n",
       "      <td>1.82</td>\n",
       "      <td>2.12</td>\n",
       "      <td>2.05</td>\n",
       "      <td>1.68</td>\n",
       "      <td>3.96</td>\n",
       "      <td>5.73</td>\n",
       "      <td>Win</td>\n",
       "      <td>Lose</td>\n",
       "      <td>3</td>\n",
       "      <td>0</td>\n",
       "    </tr>\n",
       "    <tr>\n",
       "      <th>3</th>\n",
       "      <td>SP1</td>\n",
       "      <td>19/08/12</td>\n",
       "      <td>Ath Bilbao</td>\n",
       "      <td>Betis</td>\n",
       "      <td>3</td>\n",
       "      <td>5</td>\n",
       "      <td>A</td>\n",
       "      <td>0</td>\n",
       "      <td>3</td>\n",
       "      <td>A</td>\n",
       "      <td>...</td>\n",
       "      <td>2.12</td>\n",
       "      <td>1.81</td>\n",
       "      <td>1.76</td>\n",
       "      <td>2.17</td>\n",
       "      <td>3.49</td>\n",
       "      <td>3.65</td>\n",
       "      <td>Lose</td>\n",
       "      <td>Win</td>\n",
       "      <td>0</td>\n",
       "      <td>3</td>\n",
       "    </tr>\n",
       "    <tr>\n",
       "      <th>4</th>\n",
       "      <td>SP1</td>\n",
       "      <td>19/08/12</td>\n",
       "      <td>Barcelona</td>\n",
       "      <td>Sociedad</td>\n",
       "      <td>5</td>\n",
       "      <td>1</td>\n",
       "      <td>H</td>\n",
       "      <td>4</td>\n",
       "      <td>1</td>\n",
       "      <td>H</td>\n",
       "      <td>...</td>\n",
       "      <td>1.93</td>\n",
       "      <td>1.99</td>\n",
       "      <td>1.93</td>\n",
       "      <td>1.09</td>\n",
       "      <td>13.96</td>\n",
       "      <td>35.36</td>\n",
       "      <td>Win</td>\n",
       "      <td>Lose</td>\n",
       "      <td>3</td>\n",
       "      <td>0</td>\n",
       "    </tr>\n",
       "  </tbody>\n",
       "</table>\n",
       "<p>5 rows × 77 columns</p>\n",
       "</div>"
      ],
      "text/plain": [
       "   Div      Date    HomeTeam  AwayTeam  FTHG  FTAG FTR  HTHG  HTAG HTR  ...  \\\n",
       "0  SP1  18/08/12       Celta    Malaga     0     1   A     0     0   D  ...   \n",
       "1  SP1  18/08/12    Mallorca   Espanol     2     1   H     1     1   D  ...   \n",
       "2  SP1  18/08/12     Sevilla    Getafe     2     1   H     2     0   H  ...   \n",
       "3  SP1  19/08/12  Ath Bilbao     Betis     3     5   A     0     3   A  ...   \n",
       "4  SP1  19/08/12   Barcelona  Sociedad     5     1   H     4     1   H  ...   \n",
       "\n",
       "   BbAvAHH  BbMxAHA  BbAvAHA  PSCH   PSCD   PSCA  FTR_home  FTR_away  \\\n",
       "0     1.96     1.98     1.91  2.35   3.45   3.29      Lose       Win   \n",
       "1     1.98     1.95     1.90  2.25   3.33   3.63       Win      Lose   \n",
       "2     1.82     2.12     2.05  1.68   3.96   5.73       Win      Lose   \n",
       "3     2.12     1.81     1.76  2.17   3.49   3.65      Lose       Win   \n",
       "4     1.93     1.99     1.93  1.09  13.96  35.36       Win      Lose   \n",
       "\n",
       "   Home_point  Away_point  \n",
       "0           0           3  \n",
       "1           3           0  \n",
       "2           3           0  \n",
       "3           0           3  \n",
       "4           3           0  \n",
       "\n",
       "[5 rows x 77 columns]"
      ]
     },
     "execution_count": 18,
     "metadata": {},
     "output_type": "execute_result"
    }
   ],
   "source": [
    "df1 = list_df[1]\n",
    "df1.head()"
   ]
  },
  {
   "cell_type": "code",
   "execution_count": 19,
   "metadata": {},
   "outputs": [
    {
     "data": {
      "text/plain": [
       "[37,\n",
       " 36,\n",
       " 50,\n",
       " 45,\n",
       " 100,\n",
       " 46,\n",
       " 85,\n",
       " 35,\n",
       " 53,\n",
       " 34,\n",
       " 56,\n",
       " 44,\n",
       " 57,\n",
       " 66,\n",
       " 47,\n",
       " 42,\n",
       " 39,\n",
       " 65,\n",
       " 76,\n",
       " 43]"
      ]
     },
     "execution_count": 19,
     "metadata": {},
     "output_type": "execute_result"
    }
   ],
   "source": [
    "lst_points = []\n",
    "for item in df1['HomeTeam'].unique():\n",
    "    lst_points.append(df1[df1['HomeTeam']==item]['Home_point'].sum() + df1[df1['AwayTeam']==item]['Away_point'].sum())\n",
    "lst_points"
   ]
  },
  {
   "cell_type": "code",
   "execution_count": 20,
   "metadata": {},
   "outputs": [],
   "source": [
    "classement = pd.DataFrame(list(zip(df1['HomeTeam'].unique(),lst_points)),columns=['team','points'])"
   ]
  },
  {
   "cell_type": "code",
   "execution_count": 21,
   "metadata": {},
   "outputs": [],
   "source": [
    "classement = classement.sort_values(by='points',ascending=False).reset_index(drop=True)"
   ]
  },
  {
   "cell_type": "markdown",
   "metadata": {},
   "source": [
    "## 1.2.2 Fonction classement "
   ]
  },
  {
   "cell_type": "code",
   "execution_count": 22,
   "metadata": {},
   "outputs": [],
   "source": [
    "def classment_per_year():\n",
    "    '''\n",
    "    Compute the classement of every season \n",
    "    ATTENTION : fct prend rien en paarmètre mais utilise la variable list_df\n",
    "    '''\n",
    "    list_df_classement = []\n",
    "    for df in list_df:\n",
    "        lst_points = []\n",
    "        \n",
    "        for item in df['HomeTeam'].unique():\n",
    "           lst_points.append(df[df['HomeTeam']==item]['Home_point'].sum() + df[df['AwayTeam']==item]['Away_point'].sum())\n",
    "        \n",
    "        classement = pd.DataFrame(list(zip(df1['HomeTeam'].unique(),lst_points)),columns=['team','points'])\n",
    "        classement = classement.sort_values(by='points',ascending=False).reset_index(drop=True)\n",
    "        list_df_classement.append(classement)\n",
    "    return list_df_classement"
   ]
  },
  {
   "cell_type": "code",
   "execution_count": 23,
   "metadata": {},
   "outputs": [],
   "source": [
    "test_classement = classment_per_year()"
   ]
  },
  {
   "cell_type": "code",
   "execution_count": 24,
   "metadata": {},
   "outputs": [
    {
     "data": {
      "text/html": [
       "<div>\n",
       "<style scoped>\n",
       "    .dataframe tbody tr th:only-of-type {\n",
       "        vertical-align: middle;\n",
       "    }\n",
       "\n",
       "    .dataframe tbody tr th {\n",
       "        vertical-align: top;\n",
       "    }\n",
       "\n",
       "    .dataframe thead th {\n",
       "        text-align: right;\n",
       "    }\n",
       "</style>\n",
       "<table border=\"1\" class=\"dataframe\">\n",
       "  <thead>\n",
       "    <tr style=\"text-align: right;\">\n",
       "      <th></th>\n",
       "      <th>team</th>\n",
       "      <th>points</th>\n",
       "    </tr>\n",
       "  </thead>\n",
       "  <tbody>\n",
       "    <tr>\n",
       "      <th>0</th>\n",
       "      <td>Granada</td>\n",
       "      <td>93</td>\n",
       "    </tr>\n",
       "    <tr>\n",
       "      <th>1</th>\n",
       "      <td>Sevilla</td>\n",
       "      <td>90</td>\n",
       "    </tr>\n",
       "    <tr>\n",
       "      <th>2</th>\n",
       "      <td>Levante</td>\n",
       "      <td>78</td>\n",
       "    </tr>\n",
       "    <tr>\n",
       "      <th>3</th>\n",
       "      <td>Barcelona</td>\n",
       "      <td>72</td>\n",
       "    </tr>\n",
       "    <tr>\n",
       "      <th>4</th>\n",
       "      <td>Valladolid</td>\n",
       "      <td>67</td>\n",
       "    </tr>\n",
       "    <tr>\n",
       "      <th>5</th>\n",
       "      <td>Real Madrid</td>\n",
       "      <td>64</td>\n",
       "    </tr>\n",
       "    <tr>\n",
       "      <th>6</th>\n",
       "      <td>Valencia</td>\n",
       "      <td>63</td>\n",
       "    </tr>\n",
       "    <tr>\n",
       "      <th>7</th>\n",
       "      <td>Espanol</td>\n",
       "      <td>56</td>\n",
       "    </tr>\n",
       "    <tr>\n",
       "      <th>8</th>\n",
       "      <td>Osasuna</td>\n",
       "      <td>55</td>\n",
       "    </tr>\n",
       "    <tr>\n",
       "      <th>9</th>\n",
       "      <td>Malaga</td>\n",
       "      <td>54</td>\n",
       "    </tr>\n",
       "    <tr>\n",
       "      <th>10</th>\n",
       "      <td>Zaragoza</td>\n",
       "      <td>46</td>\n",
       "    </tr>\n",
       "    <tr>\n",
       "      <th>11</th>\n",
       "      <td>Mallorca</td>\n",
       "      <td>46</td>\n",
       "    </tr>\n",
       "    <tr>\n",
       "      <th>12</th>\n",
       "      <td>Vallecano</td>\n",
       "      <td>45</td>\n",
       "    </tr>\n",
       "    <tr>\n",
       "      <th>13</th>\n",
       "      <td>Ath Madrid</td>\n",
       "      <td>39</td>\n",
       "    </tr>\n",
       "    <tr>\n",
       "      <th>14</th>\n",
       "      <td>Betis</td>\n",
       "      <td>39</td>\n",
       "    </tr>\n",
       "    <tr>\n",
       "      <th>15</th>\n",
       "      <td>Celta</td>\n",
       "      <td>36</td>\n",
       "    </tr>\n",
       "    <tr>\n",
       "      <th>16</th>\n",
       "      <td>Sociedad</td>\n",
       "      <td>35</td>\n",
       "    </tr>\n",
       "    <tr>\n",
       "      <th>17</th>\n",
       "      <td>La Coruna</td>\n",
       "      <td>31</td>\n",
       "    </tr>\n",
       "    <tr>\n",
       "      <th>18</th>\n",
       "      <td>Getafe</td>\n",
       "      <td>22</td>\n",
       "    </tr>\n",
       "    <tr>\n",
       "      <th>19</th>\n",
       "      <td>Ath Bilbao</td>\n",
       "      <td>20</td>\n",
       "    </tr>\n",
       "  </tbody>\n",
       "</table>\n",
       "</div>"
      ],
      "text/plain": [
       "           team  points\n",
       "0       Granada      93\n",
       "1       Sevilla      90\n",
       "2       Levante      78\n",
       "3     Barcelona      72\n",
       "4    Valladolid      67\n",
       "5   Real Madrid      64\n",
       "6      Valencia      63\n",
       "7       Espanol      56\n",
       "8       Osasuna      55\n",
       "9        Malaga      54\n",
       "10     Zaragoza      46\n",
       "11     Mallorca      46\n",
       "12    Vallecano      45\n",
       "13   Ath Madrid      39\n",
       "14        Betis      39\n",
       "15        Celta      36\n",
       "16     Sociedad      35\n",
       "17    La Coruna      31\n",
       "18       Getafe      22\n",
       "19   Ath Bilbao      20"
      ]
     },
     "execution_count": 24,
     "metadata": {},
     "output_type": "execute_result"
    }
   ],
   "source": [
    "test_classement[2]"
   ]
  },
  {
   "cell_type": "code",
   "execution_count": 25,
   "metadata": {},
   "outputs": [],
   "source": [
    "dic_season ={'09-10':9,'10-11':8,'11-12':7,'12-13':6,'13-14':5,'14-15':4,'15-16':3,'16-17':2,'17-18':1,'18-19':0}"
   ]
  },
  {
   "cell_type": "code",
   "execution_count": 26,
   "metadata": {},
   "outputs": [
    {
     "data": {
      "text/plain": [
       "['09-10',\n",
       " '10-11',\n",
       " '11-12',\n",
       " '12-13',\n",
       " '13-14',\n",
       " '14-15',\n",
       " '15-16',\n",
       " '16-17',\n",
       " '17-18',\n",
       " '18-19']"
      ]
     },
     "execution_count": 26,
     "metadata": {},
     "output_type": "execute_result"
    }
   ],
   "source": [
    "list(dic_season.keys())"
   ]
  },
  {
   "cell_type": "markdown",
   "metadata": {},
   "source": [
    "## 1.2.3 pie faults\n"
   ]
  },
  {
   "cell_type": "code",
   "execution_count": 65,
   "metadata": {},
   "outputs": [
    {
     "data": {
      "text/html": [
       "<div>\n",
       "<style scoped>\n",
       "    .dataframe tbody tr th:only-of-type {\n",
       "        vertical-align: middle;\n",
       "    }\n",
       "\n",
       "    .dataframe tbody tr th {\n",
       "        vertical-align: top;\n",
       "    }\n",
       "\n",
       "    .dataframe thead th {\n",
       "        text-align: right;\n",
       "    }\n",
       "</style>\n",
       "<table border=\"1\" class=\"dataframe\">\n",
       "  <thead>\n",
       "    <tr style=\"text-align: right;\">\n",
       "      <th></th>\n",
       "      <th>Red Card</th>\n",
       "      <th>Yellow Card</th>\n",
       "      <th>Fault</th>\n",
       "    </tr>\n",
       "  </thead>\n",
       "  <tbody>\n",
       "    <tr>\n",
       "      <th>0</th>\n",
       "      <td>79</td>\n",
       "      <td>1965</td>\n",
       "      <td>8247</td>\n",
       "    </tr>\n",
       "  </tbody>\n",
       "</table>\n",
       "</div>"
      ],
      "text/plain": [
       "   Red Card  Yellow Card  Fault\n",
       "0        79         1965   8247"
      ]
     },
     "execution_count": 65,
     "metadata": {},
     "output_type": "execute_result"
    }
   ],
   "source": [
    "list_card = ['Red Card','Yellow Card','Fault']\n",
    "new_df = []\n",
    "new_df.append(list_df[0]['HR'].sum()+list_df[0]['AR'].sum())\n",
    "new_df.append(list_df[0]['HY'].sum()+list_df[0]['AY'].sum())\n",
    "new_df.append(list_df[0]['HF'].sum()+list_df[0]['AF'].sum() - new_df[0] - new_df[1])\n",
    "\n",
    "df = pd.DataFrame(columns=list_card)\n",
    "\n",
    "df.loc[0] = new_df\n",
    "df"
   ]
  },
  {
   "cell_type": "code",
   "execution_count": 66,
   "metadata": {},
   "outputs": [
    {
     "data": {
      "application/vnd.plotly.v1+json": {
       "config": {
        "plotlyServerURL": "https://plot.ly"
       },
       "data": [
        {
         "domain": {
          "x": [
           0,
           1
          ],
          "y": [
           0,
           1
          ]
         },
         "hovertemplate": "label=%{label}<br>value=%{value}<extra></extra>",
         "labels": [
          "Red Card",
          "Yellow Card",
          "Fault"
         ],
         "legendgroup": "",
         "name": "",
         "showlegend": true,
         "type": "pie",
         "values": [
          79,
          1965,
          8247
         ]
        }
       ],
       "layout": {
        "legend": {
         "tracegroupgap": 0
        },
        "margin": {
         "t": 60
        },
        "template": {
         "data": {
          "bar": [
           {
            "error_x": {
             "color": "#2a3f5f"
            },
            "error_y": {
             "color": "#2a3f5f"
            },
            "marker": {
             "line": {
              "color": "#E5ECF6",
              "width": 0.5
             },
             "pattern": {
              "fillmode": "overlay",
              "size": 10,
              "solidity": 0.2
             }
            },
            "type": "bar"
           }
          ],
          "barpolar": [
           {
            "marker": {
             "line": {
              "color": "#E5ECF6",
              "width": 0.5
             },
             "pattern": {
              "fillmode": "overlay",
              "size": 10,
              "solidity": 0.2
             }
            },
            "type": "barpolar"
           }
          ],
          "carpet": [
           {
            "aaxis": {
             "endlinecolor": "#2a3f5f",
             "gridcolor": "white",
             "linecolor": "white",
             "minorgridcolor": "white",
             "startlinecolor": "#2a3f5f"
            },
            "baxis": {
             "endlinecolor": "#2a3f5f",
             "gridcolor": "white",
             "linecolor": "white",
             "minorgridcolor": "white",
             "startlinecolor": "#2a3f5f"
            },
            "type": "carpet"
           }
          ],
          "choropleth": [
           {
            "colorbar": {
             "outlinewidth": 0,
             "ticks": ""
            },
            "type": "choropleth"
           }
          ],
          "contour": [
           {
            "colorbar": {
             "outlinewidth": 0,
             "ticks": ""
            },
            "colorscale": [
             [
              0,
              "#0d0887"
             ],
             [
              0.1111111111111111,
              "#46039f"
             ],
             [
              0.2222222222222222,
              "#7201a8"
             ],
             [
              0.3333333333333333,
              "#9c179e"
             ],
             [
              0.4444444444444444,
              "#bd3786"
             ],
             [
              0.5555555555555556,
              "#d8576b"
             ],
             [
              0.6666666666666666,
              "#ed7953"
             ],
             [
              0.7777777777777778,
              "#fb9f3a"
             ],
             [
              0.8888888888888888,
              "#fdca26"
             ],
             [
              1,
              "#f0f921"
             ]
            ],
            "type": "contour"
           }
          ],
          "contourcarpet": [
           {
            "colorbar": {
             "outlinewidth": 0,
             "ticks": ""
            },
            "type": "contourcarpet"
           }
          ],
          "heatmap": [
           {
            "colorbar": {
             "outlinewidth": 0,
             "ticks": ""
            },
            "colorscale": [
             [
              0,
              "#0d0887"
             ],
             [
              0.1111111111111111,
              "#46039f"
             ],
             [
              0.2222222222222222,
              "#7201a8"
             ],
             [
              0.3333333333333333,
              "#9c179e"
             ],
             [
              0.4444444444444444,
              "#bd3786"
             ],
             [
              0.5555555555555556,
              "#d8576b"
             ],
             [
              0.6666666666666666,
              "#ed7953"
             ],
             [
              0.7777777777777778,
              "#fb9f3a"
             ],
             [
              0.8888888888888888,
              "#fdca26"
             ],
             [
              1,
              "#f0f921"
             ]
            ],
            "type": "heatmap"
           }
          ],
          "heatmapgl": [
           {
            "colorbar": {
             "outlinewidth": 0,
             "ticks": ""
            },
            "colorscale": [
             [
              0,
              "#0d0887"
             ],
             [
              0.1111111111111111,
              "#46039f"
             ],
             [
              0.2222222222222222,
              "#7201a8"
             ],
             [
              0.3333333333333333,
              "#9c179e"
             ],
             [
              0.4444444444444444,
              "#bd3786"
             ],
             [
              0.5555555555555556,
              "#d8576b"
             ],
             [
              0.6666666666666666,
              "#ed7953"
             ],
             [
              0.7777777777777778,
              "#fb9f3a"
             ],
             [
              0.8888888888888888,
              "#fdca26"
             ],
             [
              1,
              "#f0f921"
             ]
            ],
            "type": "heatmapgl"
           }
          ],
          "histogram": [
           {
            "marker": {
             "pattern": {
              "fillmode": "overlay",
              "size": 10,
              "solidity": 0.2
             }
            },
            "type": "histogram"
           }
          ],
          "histogram2d": [
           {
            "colorbar": {
             "outlinewidth": 0,
             "ticks": ""
            },
            "colorscale": [
             [
              0,
              "#0d0887"
             ],
             [
              0.1111111111111111,
              "#46039f"
             ],
             [
              0.2222222222222222,
              "#7201a8"
             ],
             [
              0.3333333333333333,
              "#9c179e"
             ],
             [
              0.4444444444444444,
              "#bd3786"
             ],
             [
              0.5555555555555556,
              "#d8576b"
             ],
             [
              0.6666666666666666,
              "#ed7953"
             ],
             [
              0.7777777777777778,
              "#fb9f3a"
             ],
             [
              0.8888888888888888,
              "#fdca26"
             ],
             [
              1,
              "#f0f921"
             ]
            ],
            "type": "histogram2d"
           }
          ],
          "histogram2dcontour": [
           {
            "colorbar": {
             "outlinewidth": 0,
             "ticks": ""
            },
            "colorscale": [
             [
              0,
              "#0d0887"
             ],
             [
              0.1111111111111111,
              "#46039f"
             ],
             [
              0.2222222222222222,
              "#7201a8"
             ],
             [
              0.3333333333333333,
              "#9c179e"
             ],
             [
              0.4444444444444444,
              "#bd3786"
             ],
             [
              0.5555555555555556,
              "#d8576b"
             ],
             [
              0.6666666666666666,
              "#ed7953"
             ],
             [
              0.7777777777777778,
              "#fb9f3a"
             ],
             [
              0.8888888888888888,
              "#fdca26"
             ],
             [
              1,
              "#f0f921"
             ]
            ],
            "type": "histogram2dcontour"
           }
          ],
          "mesh3d": [
           {
            "colorbar": {
             "outlinewidth": 0,
             "ticks": ""
            },
            "type": "mesh3d"
           }
          ],
          "parcoords": [
           {
            "line": {
             "colorbar": {
              "outlinewidth": 0,
              "ticks": ""
             }
            },
            "type": "parcoords"
           }
          ],
          "pie": [
           {
            "automargin": true,
            "type": "pie"
           }
          ],
          "scatter": [
           {
            "fillpattern": {
             "fillmode": "overlay",
             "size": 10,
             "solidity": 0.2
            },
            "type": "scatter"
           }
          ],
          "scatter3d": [
           {
            "line": {
             "colorbar": {
              "outlinewidth": 0,
              "ticks": ""
             }
            },
            "marker": {
             "colorbar": {
              "outlinewidth": 0,
              "ticks": ""
             }
            },
            "type": "scatter3d"
           }
          ],
          "scattercarpet": [
           {
            "marker": {
             "colorbar": {
              "outlinewidth": 0,
              "ticks": ""
             }
            },
            "type": "scattercarpet"
           }
          ],
          "scattergeo": [
           {
            "marker": {
             "colorbar": {
              "outlinewidth": 0,
              "ticks": ""
             }
            },
            "type": "scattergeo"
           }
          ],
          "scattergl": [
           {
            "marker": {
             "colorbar": {
              "outlinewidth": 0,
              "ticks": ""
             }
            },
            "type": "scattergl"
           }
          ],
          "scattermapbox": [
           {
            "marker": {
             "colorbar": {
              "outlinewidth": 0,
              "ticks": ""
             }
            },
            "type": "scattermapbox"
           }
          ],
          "scatterpolar": [
           {
            "marker": {
             "colorbar": {
              "outlinewidth": 0,
              "ticks": ""
             }
            },
            "type": "scatterpolar"
           }
          ],
          "scatterpolargl": [
           {
            "marker": {
             "colorbar": {
              "outlinewidth": 0,
              "ticks": ""
             }
            },
            "type": "scatterpolargl"
           }
          ],
          "scatterternary": [
           {
            "marker": {
             "colorbar": {
              "outlinewidth": 0,
              "ticks": ""
             }
            },
            "type": "scatterternary"
           }
          ],
          "surface": [
           {
            "colorbar": {
             "outlinewidth": 0,
             "ticks": ""
            },
            "colorscale": [
             [
              0,
              "#0d0887"
             ],
             [
              0.1111111111111111,
              "#46039f"
             ],
             [
              0.2222222222222222,
              "#7201a8"
             ],
             [
              0.3333333333333333,
              "#9c179e"
             ],
             [
              0.4444444444444444,
              "#bd3786"
             ],
             [
              0.5555555555555556,
              "#d8576b"
             ],
             [
              0.6666666666666666,
              "#ed7953"
             ],
             [
              0.7777777777777778,
              "#fb9f3a"
             ],
             [
              0.8888888888888888,
              "#fdca26"
             ],
             [
              1,
              "#f0f921"
             ]
            ],
            "type": "surface"
           }
          ],
          "table": [
           {
            "cells": {
             "fill": {
              "color": "#EBF0F8"
             },
             "line": {
              "color": "white"
             }
            },
            "header": {
             "fill": {
              "color": "#C8D4E3"
             },
             "line": {
              "color": "white"
             }
            },
            "type": "table"
           }
          ]
         },
         "layout": {
          "annotationdefaults": {
           "arrowcolor": "#2a3f5f",
           "arrowhead": 0,
           "arrowwidth": 1
          },
          "autotypenumbers": "strict",
          "coloraxis": {
           "colorbar": {
            "outlinewidth": 0,
            "ticks": ""
           }
          },
          "colorscale": {
           "diverging": [
            [
             0,
             "#8e0152"
            ],
            [
             0.1,
             "#c51b7d"
            ],
            [
             0.2,
             "#de77ae"
            ],
            [
             0.3,
             "#f1b6da"
            ],
            [
             0.4,
             "#fde0ef"
            ],
            [
             0.5,
             "#f7f7f7"
            ],
            [
             0.6,
             "#e6f5d0"
            ],
            [
             0.7,
             "#b8e186"
            ],
            [
             0.8,
             "#7fbc41"
            ],
            [
             0.9,
             "#4d9221"
            ],
            [
             1,
             "#276419"
            ]
           ],
           "sequential": [
            [
             0,
             "#0d0887"
            ],
            [
             0.1111111111111111,
             "#46039f"
            ],
            [
             0.2222222222222222,
             "#7201a8"
            ],
            [
             0.3333333333333333,
             "#9c179e"
            ],
            [
             0.4444444444444444,
             "#bd3786"
            ],
            [
             0.5555555555555556,
             "#d8576b"
            ],
            [
             0.6666666666666666,
             "#ed7953"
            ],
            [
             0.7777777777777778,
             "#fb9f3a"
            ],
            [
             0.8888888888888888,
             "#fdca26"
            ],
            [
             1,
             "#f0f921"
            ]
           ],
           "sequentialminus": [
            [
             0,
             "#0d0887"
            ],
            [
             0.1111111111111111,
             "#46039f"
            ],
            [
             0.2222222222222222,
             "#7201a8"
            ],
            [
             0.3333333333333333,
             "#9c179e"
            ],
            [
             0.4444444444444444,
             "#bd3786"
            ],
            [
             0.5555555555555556,
             "#d8576b"
            ],
            [
             0.6666666666666666,
             "#ed7953"
            ],
            [
             0.7777777777777778,
             "#fb9f3a"
            ],
            [
             0.8888888888888888,
             "#fdca26"
            ],
            [
             1,
             "#f0f921"
            ]
           ]
          },
          "colorway": [
           "#636efa",
           "#EF553B",
           "#00cc96",
           "#ab63fa",
           "#FFA15A",
           "#19d3f3",
           "#FF6692",
           "#B6E880",
           "#FF97FF",
           "#FECB52"
          ],
          "font": {
           "color": "#2a3f5f"
          },
          "geo": {
           "bgcolor": "white",
           "lakecolor": "white",
           "landcolor": "#E5ECF6",
           "showlakes": true,
           "showland": true,
           "subunitcolor": "white"
          },
          "hoverlabel": {
           "align": "left"
          },
          "hovermode": "closest",
          "mapbox": {
           "style": "light"
          },
          "paper_bgcolor": "white",
          "plot_bgcolor": "#E5ECF6",
          "polar": {
           "angularaxis": {
            "gridcolor": "white",
            "linecolor": "white",
            "ticks": ""
           },
           "bgcolor": "#E5ECF6",
           "radialaxis": {
            "gridcolor": "white",
            "linecolor": "white",
            "ticks": ""
           }
          },
          "scene": {
           "xaxis": {
            "backgroundcolor": "#E5ECF6",
            "gridcolor": "white",
            "gridwidth": 2,
            "linecolor": "white",
            "showbackground": true,
            "ticks": "",
            "zerolinecolor": "white"
           },
           "yaxis": {
            "backgroundcolor": "#E5ECF6",
            "gridcolor": "white",
            "gridwidth": 2,
            "linecolor": "white",
            "showbackground": true,
            "ticks": "",
            "zerolinecolor": "white"
           },
           "zaxis": {
            "backgroundcolor": "#E5ECF6",
            "gridcolor": "white",
            "gridwidth": 2,
            "linecolor": "white",
            "showbackground": true,
            "ticks": "",
            "zerolinecolor": "white"
           }
          },
          "shapedefaults": {
           "line": {
            "color": "#2a3f5f"
           }
          },
          "ternary": {
           "aaxis": {
            "gridcolor": "white",
            "linecolor": "white",
            "ticks": ""
           },
           "baxis": {
            "gridcolor": "white",
            "linecolor": "white",
            "ticks": ""
           },
           "bgcolor": "#E5ECF6",
           "caxis": {
            "gridcolor": "white",
            "linecolor": "white",
            "ticks": ""
           }
          },
          "title": {
           "x": 0.05
          },
          "xaxis": {
           "automargin": true,
           "gridcolor": "white",
           "linecolor": "white",
           "ticks": "",
           "title": {
            "standoff": 15
           },
           "zerolinecolor": "white",
           "zerolinewidth": 2
          },
          "yaxis": {
           "automargin": true,
           "gridcolor": "white",
           "linecolor": "white",
           "ticks": "",
           "title": {
            "standoff": 15
           },
           "zerolinecolor": "white",
           "zerolinewidth": 2
          }
         }
        }
       }
      }
     },
     "metadata": {},
     "output_type": "display_data"
    }
   ],
   "source": [
    "import plotly.express as px\n",
    "#df = px.data.tips()\n",
    "fig = px.pie(df, values = df.loc[0], names=df.columns)\n",
    "fig.show()"
   ]
  },
  {
   "cell_type": "code",
   "execution_count": 67,
   "metadata": {},
   "outputs": [
    {
     "data": {
      "text/html": [
       "<div>\n",
       "<style scoped>\n",
       "    .dataframe tbody tr th:only-of-type {\n",
       "        vertical-align: middle;\n",
       "    }\n",
       "\n",
       "    .dataframe tbody tr th {\n",
       "        vertical-align: top;\n",
       "    }\n",
       "\n",
       "    .dataframe thead th {\n",
       "        text-align: right;\n",
       "    }\n",
       "</style>\n",
       "<table border=\"1\" class=\"dataframe\">\n",
       "  <thead>\n",
       "    <tr style=\"text-align: right;\">\n",
       "      <th></th>\n",
       "      <th>Red Card</th>\n",
       "      <th>Yellow Card</th>\n",
       "      <th>Fault</th>\n",
       "    </tr>\n",
       "  </thead>\n",
       "  <tbody>\n",
       "    <tr>\n",
       "      <th>0</th>\n",
       "      <td>79</td>\n",
       "      <td>1965</td>\n",
       "      <td>8247</td>\n",
       "    </tr>\n",
       "  </tbody>\n",
       "</table>\n",
       "</div>"
      ],
      "text/plain": [
       "   Red Card  Yellow Card  Fault\n",
       "0        79         1965   8247"
      ]
     },
     "execution_count": 67,
     "metadata": {},
     "output_type": "execute_result"
    }
   ],
   "source": [
    "df.head()"
   ]
  },
  {
   "cell_type": "code",
   "execution_count": 51,
   "metadata": {},
   "outputs": [
    {
     "data": {
      "text/html": [
       "<div>\n",
       "<style scoped>\n",
       "    .dataframe tbody tr th:only-of-type {\n",
       "        vertical-align: middle;\n",
       "    }\n",
       "\n",
       "    .dataframe tbody tr th {\n",
       "        vertical-align: top;\n",
       "    }\n",
       "\n",
       "    .dataframe thead th {\n",
       "        text-align: right;\n",
       "    }\n",
       "</style>\n",
       "<table border=\"1\" class=\"dataframe\">\n",
       "  <thead>\n",
       "    <tr style=\"text-align: right;\">\n",
       "      <th></th>\n",
       "      <th>size</th>\n",
       "    </tr>\n",
       "  </thead>\n",
       "  <tbody>\n",
       "    <tr>\n",
       "      <th>0</th>\n",
       "      <td>2</td>\n",
       "    </tr>\n",
       "    <tr>\n",
       "      <th>1</th>\n",
       "      <td>5</td>\n",
       "    </tr>\n",
       "    <tr>\n",
       "      <th>2</th>\n",
       "      <td>8</td>\n",
       "    </tr>\n",
       "    <tr>\n",
       "      <th>3</th>\n",
       "      <td>10</td>\n",
       "    </tr>\n",
       "    <tr>\n",
       "      <th>4</th>\n",
       "      <td>14</td>\n",
       "    </tr>\n",
       "    <tr>\n",
       "      <th>...</th>\n",
       "      <td>...</td>\n",
       "    </tr>\n",
       "    <tr>\n",
       "      <th>239</th>\n",
       "      <td>619</td>\n",
       "    </tr>\n",
       "    <tr>\n",
       "      <th>240</th>\n",
       "      <td>621</td>\n",
       "    </tr>\n",
       "    <tr>\n",
       "      <th>241</th>\n",
       "      <td>623</td>\n",
       "    </tr>\n",
       "    <tr>\n",
       "      <th>242</th>\n",
       "      <td>625</td>\n",
       "    </tr>\n",
       "    <tr>\n",
       "      <th>243</th>\n",
       "      <td>627</td>\n",
       "    </tr>\n",
       "  </tbody>\n",
       "</table>\n",
       "<p>244 rows × 1 columns</p>\n",
       "</div>"
      ],
      "text/plain": [
       "     size\n",
       "0       2\n",
       "1       5\n",
       "2       8\n",
       "3      10\n",
       "4      14\n",
       "..    ...\n",
       "239   619\n",
       "240   621\n",
       "241   623\n",
       "242   625\n",
       "243   627\n",
       "\n",
       "[244 rows x 1 columns]"
      ]
     },
     "execution_count": 51,
     "metadata": {},
     "output_type": "execute_result"
    }
   ],
   "source": [
    "df[['size']].cumsum(axis=0)"
   ]
  },
  {
   "cell_type": "markdown",
   "metadata": {},
   "source": [
    "## 1.2.4 ranking top five"
   ]
  },
  {
   "cell_type": "code",
   "execution_count": 69,
   "metadata": {},
   "outputs": [
    {
     "data": {
      "text/html": [
       "<div>\n",
       "<style scoped>\n",
       "    .dataframe tbody tr th:only-of-type {\n",
       "        vertical-align: middle;\n",
       "    }\n",
       "\n",
       "    .dataframe tbody tr th {\n",
       "        vertical-align: top;\n",
       "    }\n",
       "\n",
       "    .dataframe thead th {\n",
       "        text-align: right;\n",
       "    }\n",
       "</style>\n",
       "<table border=\"1\" class=\"dataframe\">\n",
       "  <thead>\n",
       "    <tr style=\"text-align: right;\">\n",
       "      <th></th>\n",
       "      <th>Div</th>\n",
       "      <th>Date</th>\n",
       "      <th>HomeTeam</th>\n",
       "      <th>AwayTeam</th>\n",
       "      <th>FTHG</th>\n",
       "      <th>FTAG</th>\n",
       "      <th>FTR</th>\n",
       "      <th>HTHG</th>\n",
       "      <th>HTAG</th>\n",
       "      <th>HTR</th>\n",
       "      <th>...</th>\n",
       "      <th>BbAvAHH</th>\n",
       "      <th>BbMxAHA</th>\n",
       "      <th>BbAvAHA</th>\n",
       "      <th>PSCH</th>\n",
       "      <th>PSCD</th>\n",
       "      <th>PSCA</th>\n",
       "      <th>FTR_home</th>\n",
       "      <th>FTR_away</th>\n",
       "      <th>Home_point</th>\n",
       "      <th>Away_point</th>\n",
       "    </tr>\n",
       "  </thead>\n",
       "  <tbody>\n",
       "    <tr>\n",
       "      <th>0</th>\n",
       "      <td>SP1</td>\n",
       "      <td>17/08/2018</td>\n",
       "      <td>Betis</td>\n",
       "      <td>Levante</td>\n",
       "      <td>0</td>\n",
       "      <td>3</td>\n",
       "      <td>A</td>\n",
       "      <td>0</td>\n",
       "      <td>1</td>\n",
       "      <td>A</td>\n",
       "      <td>...</td>\n",
       "      <td>1.85</td>\n",
       "      <td>2.07</td>\n",
       "      <td>2.00</td>\n",
       "      <td>1.59</td>\n",
       "      <td>4.42</td>\n",
       "      <td>5.89</td>\n",
       "      <td>Lose</td>\n",
       "      <td>Win</td>\n",
       "      <td>0</td>\n",
       "      <td>3</td>\n",
       "    </tr>\n",
       "    <tr>\n",
       "      <th>1</th>\n",
       "      <td>SP1</td>\n",
       "      <td>17/08/2018</td>\n",
       "      <td>Girona</td>\n",
       "      <td>Valladolid</td>\n",
       "      <td>0</td>\n",
       "      <td>0</td>\n",
       "      <td>D</td>\n",
       "      <td>0</td>\n",
       "      <td>0</td>\n",
       "      <td>D</td>\n",
       "      <td>...</td>\n",
       "      <td>2.01</td>\n",
       "      <td>1.90</td>\n",
       "      <td>1.85</td>\n",
       "      <td>1.76</td>\n",
       "      <td>3.57</td>\n",
       "      <td>5.62</td>\n",
       "      <td>Draw</td>\n",
       "      <td>Draw</td>\n",
       "      <td>1</td>\n",
       "      <td>1</td>\n",
       "    </tr>\n",
       "    <tr>\n",
       "      <th>2</th>\n",
       "      <td>SP1</td>\n",
       "      <td>18/08/2018</td>\n",
       "      <td>Barcelona</td>\n",
       "      <td>Alaves</td>\n",
       "      <td>3</td>\n",
       "      <td>0</td>\n",
       "      <td>H</td>\n",
       "      <td>0</td>\n",
       "      <td>0</td>\n",
       "      <td>D</td>\n",
       "      <td>...</td>\n",
       "      <td>1.91</td>\n",
       "      <td>2.00</td>\n",
       "      <td>1.95</td>\n",
       "      <td>1.10</td>\n",
       "      <td>11.85</td>\n",
       "      <td>32.17</td>\n",
       "      <td>Win</td>\n",
       "      <td>Lose</td>\n",
       "      <td>3</td>\n",
       "      <td>0</td>\n",
       "    </tr>\n",
       "    <tr>\n",
       "      <th>3</th>\n",
       "      <td>SP1</td>\n",
       "      <td>18/08/2018</td>\n",
       "      <td>Celta</td>\n",
       "      <td>Espanol</td>\n",
       "      <td>1</td>\n",
       "      <td>1</td>\n",
       "      <td>D</td>\n",
       "      <td>0</td>\n",
       "      <td>1</td>\n",
       "      <td>A</td>\n",
       "      <td>...</td>\n",
       "      <td>2.18</td>\n",
       "      <td>1.74</td>\n",
       "      <td>1.71</td>\n",
       "      <td>2.18</td>\n",
       "      <td>3.26</td>\n",
       "      <td>3.85</td>\n",
       "      <td>Draw</td>\n",
       "      <td>Draw</td>\n",
       "      <td>1</td>\n",
       "      <td>1</td>\n",
       "    </tr>\n",
       "    <tr>\n",
       "      <th>4</th>\n",
       "      <td>SP1</td>\n",
       "      <td>18/08/2018</td>\n",
       "      <td>Villarreal</td>\n",
       "      <td>Sociedad</td>\n",
       "      <td>1</td>\n",
       "      <td>2</td>\n",
       "      <td>A</td>\n",
       "      <td>1</td>\n",
       "      <td>1</td>\n",
       "      <td>D</td>\n",
       "      <td>...</td>\n",
       "      <td>1.74</td>\n",
       "      <td>2.23</td>\n",
       "      <td>2.14</td>\n",
       "      <td>2.32</td>\n",
       "      <td>3.21</td>\n",
       "      <td>3.53</td>\n",
       "      <td>Lose</td>\n",
       "      <td>Win</td>\n",
       "      <td>0</td>\n",
       "      <td>3</td>\n",
       "    </tr>\n",
       "  </tbody>\n",
       "</table>\n",
       "<p>5 rows × 65 columns</p>\n",
       "</div>"
      ],
      "text/plain": [
       "   Div        Date    HomeTeam    AwayTeam  FTHG  FTAG FTR  HTHG  HTAG HTR  \\\n",
       "0  SP1  17/08/2018       Betis     Levante     0     3   A     0     1   A   \n",
       "1  SP1  17/08/2018      Girona  Valladolid     0     0   D     0     0   D   \n",
       "2  SP1  18/08/2018   Barcelona      Alaves     3     0   H     0     0   D   \n",
       "3  SP1  18/08/2018       Celta     Espanol     1     1   D     0     1   A   \n",
       "4  SP1  18/08/2018  Villarreal    Sociedad     1     2   A     1     1   D   \n",
       "\n",
       "   ...  BbAvAHH  BbMxAHA  BbAvAHA  PSCH   PSCD   PSCA  FTR_home  FTR_away  \\\n",
       "0  ...     1.85     2.07     2.00  1.59   4.42   5.89      Lose       Win   \n",
       "1  ...     2.01     1.90     1.85  1.76   3.57   5.62      Draw      Draw   \n",
       "2  ...     1.91     2.00     1.95  1.10  11.85  32.17       Win      Lose   \n",
       "3  ...     2.18     1.74     1.71  2.18   3.26   3.85      Draw      Draw   \n",
       "4  ...     1.74     2.23     2.14  2.32   3.21   3.53      Lose       Win   \n",
       "\n",
       "   Home_point  Away_point  \n",
       "0           0           3  \n",
       "1           1           1  \n",
       "2           3           0  \n",
       "3           1           1  \n",
       "4           0           3  \n",
       "\n",
       "[5 rows x 65 columns]"
      ]
     },
     "execution_count": 69,
     "metadata": {},
     "output_type": "execute_result"
    }
   ],
   "source": [
    "df2 = list_df[0]\n",
    "df2.head()"
   ]
  },
  {
   "cell_type": "code",
   "execution_count": 152,
   "metadata": {},
   "outputs": [],
   "source": [
    "list_teams = ['Betis','Levante']\n",
    "def filter_team(df2):\n",
    "    ''' \n",
    "    Takes in input a dataframe of a season and gives back the results of \"betis\"\n",
    "    To be adapted to all the teams and season\n",
    "    '''\n",
    "    filter_list = []\n",
    "    point_list = []\n",
    "    for index,item in enumerate(df2['HomeTeam']):\n",
    "        if item == 'Betis':\n",
    "            filter_list.append(True)\n",
    "            if df2['FTR'][index] == 'H':\n",
    "                point_list.append(3)\n",
    "            elif df2['FTR'][index] == 'D':\n",
    "                point_list.append(1)\n",
    "            else:\n",
    "                point_list.append(0)\n",
    "        elif df2['AwayTeam'][index] == 'Betis':\n",
    "            filter_list.append(True)\n",
    "            if df2['FTR'][index] == 'A':\n",
    "                point_list.append(3)\n",
    "            elif df2['FTR'][index] == 'D':\n",
    "                point_list.append(1)\n",
    "            else:\n",
    "                point_list.append(0)\n",
    "        else:\n",
    "            filter_list.append(False)\n",
    "    temp_df = df2[filter_list]\n",
    "    temp_df['points'] = point_list\n",
    "    return temp_df\n",
    "    #x1 = temp_df['FTR_home']\n",
    "    #df['cumul_points'] = df['FTR'].apply(lambda x: 0 if str(x) == 'H' else (3 if str(x)=='A' else 1))"
   ]
  },
  {
   "cell_type": "code",
   "execution_count": 153,
   "metadata": {},
   "outputs": [
    {
     "name": "stderr",
     "output_type": "stream",
     "text": [
      "/var/folders/kp/t6tfj0414hvdyqqgmpmd5ytw0000gn/T/ipykernel_16816/2355289440.py:25: SettingWithCopyWarning:\n",
      "\n",
      "\n",
      "A value is trying to be set on a copy of a slice from a DataFrame.\n",
      "Try using .loc[row_indexer,col_indexer] = value instead\n",
      "\n",
      "See the caveats in the documentation: https://pandas.pydata.org/pandas-docs/stable/user_guide/indexing.html#returning-a-view-versus-a-copy\n",
      "\n"
     ]
    },
    {
     "data": {
      "text/html": [
       "<div>\n",
       "<style scoped>\n",
       "    .dataframe tbody tr th:only-of-type {\n",
       "        vertical-align: middle;\n",
       "    }\n",
       "\n",
       "    .dataframe tbody tr th {\n",
       "        vertical-align: top;\n",
       "    }\n",
       "\n",
       "    .dataframe thead th {\n",
       "        text-align: right;\n",
       "    }\n",
       "</style>\n",
       "<table border=\"1\" class=\"dataframe\">\n",
       "  <thead>\n",
       "    <tr style=\"text-align: right;\">\n",
       "      <th></th>\n",
       "      <th>Div</th>\n",
       "      <th>Date</th>\n",
       "      <th>HomeTeam</th>\n",
       "      <th>AwayTeam</th>\n",
       "      <th>FTHG</th>\n",
       "      <th>FTAG</th>\n",
       "      <th>FTR</th>\n",
       "      <th>HTHG</th>\n",
       "      <th>HTAG</th>\n",
       "      <th>HTR</th>\n",
       "      <th>...</th>\n",
       "      <th>BbMxAHA</th>\n",
       "      <th>BbAvAHA</th>\n",
       "      <th>PSCH</th>\n",
       "      <th>PSCD</th>\n",
       "      <th>PSCA</th>\n",
       "      <th>FTR_home</th>\n",
       "      <th>FTR_away</th>\n",
       "      <th>Home_point</th>\n",
       "      <th>Away_point</th>\n",
       "      <th>points</th>\n",
       "    </tr>\n",
       "  </thead>\n",
       "  <tbody>\n",
       "    <tr>\n",
       "      <th>0</th>\n",
       "      <td>SP1</td>\n",
       "      <td>17/08/2018</td>\n",
       "      <td>Betis</td>\n",
       "      <td>Levante</td>\n",
       "      <td>0</td>\n",
       "      <td>3</td>\n",
       "      <td>A</td>\n",
       "      <td>0</td>\n",
       "      <td>1</td>\n",
       "      <td>A</td>\n",
       "      <td>...</td>\n",
       "      <td>2.07</td>\n",
       "      <td>2.00</td>\n",
       "      <td>1.59</td>\n",
       "      <td>4.42</td>\n",
       "      <td>5.89</td>\n",
       "      <td>Lose</td>\n",
       "      <td>Win</td>\n",
       "      <td>0</td>\n",
       "      <td>3</td>\n",
       "      <td>0</td>\n",
       "    </tr>\n",
       "    <tr>\n",
       "      <th>12</th>\n",
       "      <td>SP1</td>\n",
       "      <td>25/08/2018</td>\n",
       "      <td>Alaves</td>\n",
       "      <td>Betis</td>\n",
       "      <td>0</td>\n",
       "      <td>0</td>\n",
       "      <td>D</td>\n",
       "      <td>0</td>\n",
       "      <td>0</td>\n",
       "      <td>D</td>\n",
       "      <td>...</td>\n",
       "      <td>1.94</td>\n",
       "      <td>1.86</td>\n",
       "      <td>3.05</td>\n",
       "      <td>3.36</td>\n",
       "      <td>2.50</td>\n",
       "      <td>Draw</td>\n",
       "      <td>Draw</td>\n",
       "      <td>1</td>\n",
       "      <td>1</td>\n",
       "      <td>1</td>\n",
       "    </tr>\n",
       "    <tr>\n",
       "      <th>27</th>\n",
       "      <td>SP1</td>\n",
       "      <td>02/09/2018</td>\n",
       "      <td>Betis</td>\n",
       "      <td>Sevilla</td>\n",
       "      <td>1</td>\n",
       "      <td>0</td>\n",
       "      <td>H</td>\n",
       "      <td>0</td>\n",
       "      <td>0</td>\n",
       "      <td>D</td>\n",
       "      <td>...</td>\n",
       "      <td>2.19</td>\n",
       "      <td>2.13</td>\n",
       "      <td>2.84</td>\n",
       "      <td>3.60</td>\n",
       "      <td>2.53</td>\n",
       "      <td>Win</td>\n",
       "      <td>Lose</td>\n",
       "      <td>3</td>\n",
       "      <td>0</td>\n",
       "      <td>3</td>\n",
       "    </tr>\n",
       "    <tr>\n",
       "      <th>33</th>\n",
       "      <td>SP1</td>\n",
       "      <td>15/09/2018</td>\n",
       "      <td>Valencia</td>\n",
       "      <td>Betis</td>\n",
       "      <td>0</td>\n",
       "      <td>0</td>\n",
       "      <td>D</td>\n",
       "      <td>0</td>\n",
       "      <td>0</td>\n",
       "      <td>D</td>\n",
       "      <td>...</td>\n",
       "      <td>1.96</td>\n",
       "      <td>1.91</td>\n",
       "      <td>1.70</td>\n",
       "      <td>4.22</td>\n",
       "      <td>4.95</td>\n",
       "      <td>Draw</td>\n",
       "      <td>Draw</td>\n",
       "      <td>1</td>\n",
       "      <td>1</td>\n",
       "      <td>1</td>\n",
       "    </tr>\n",
       "    <tr>\n",
       "      <th>46</th>\n",
       "      <td>SP1</td>\n",
       "      <td>23/09/2018</td>\n",
       "      <td>Betis</td>\n",
       "      <td>Ath Bilbao</td>\n",
       "      <td>2</td>\n",
       "      <td>2</td>\n",
       "      <td>D</td>\n",
       "      <td>0</td>\n",
       "      <td>2</td>\n",
       "      <td>A</td>\n",
       "      <td>...</td>\n",
       "      <td>2.01</td>\n",
       "      <td>1.97</td>\n",
       "      <td>2.16</td>\n",
       "      <td>3.41</td>\n",
       "      <td>3.72</td>\n",
       "      <td>Draw</td>\n",
       "      <td>Draw</td>\n",
       "      <td>1</td>\n",
       "      <td>1</td>\n",
       "      <td>1</td>\n",
       "    </tr>\n",
       "    <tr>\n",
       "      <th>57</th>\n",
       "      <td>SP1</td>\n",
       "      <td>27/09/2018</td>\n",
       "      <td>Girona</td>\n",
       "      <td>Betis</td>\n",
       "      <td>0</td>\n",
       "      <td>1</td>\n",
       "      <td>A</td>\n",
       "      <td>0</td>\n",
       "      <td>0</td>\n",
       "      <td>D</td>\n",
       "      <td>...</td>\n",
       "      <td>1.76</td>\n",
       "      <td>1.73</td>\n",
       "      <td>2.54</td>\n",
       "      <td>3.38</td>\n",
       "      <td>2.98</td>\n",
       "      <td>Lose</td>\n",
       "      <td>Win</td>\n",
       "      <td>0</td>\n",
       "      <td>3</td>\n",
       "      <td>3</td>\n",
       "    </tr>\n",
       "    <tr>\n",
       "      <th>64</th>\n",
       "      <td>SP1</td>\n",
       "      <td>30/09/2018</td>\n",
       "      <td>Betis</td>\n",
       "      <td>Leganes</td>\n",
       "      <td>1</td>\n",
       "      <td>0</td>\n",
       "      <td>H</td>\n",
       "      <td>0</td>\n",
       "      <td>0</td>\n",
       "      <td>D</td>\n",
       "      <td>...</td>\n",
       "      <td>1.75</td>\n",
       "      <td>1.67</td>\n",
       "      <td>1.78</td>\n",
       "      <td>3.66</td>\n",
       "      <td>5.16</td>\n",
       "      <td>Win</td>\n",
       "      <td>Lose</td>\n",
       "      <td>3</td>\n",
       "      <td>0</td>\n",
       "      <td>3</td>\n",
       "    </tr>\n",
       "    <tr>\n",
       "      <th>74</th>\n",
       "      <td>SP1</td>\n",
       "      <td>07/10/2018</td>\n",
       "      <td>Ath Madrid</td>\n",
       "      <td>Betis</td>\n",
       "      <td>1</td>\n",
       "      <td>0</td>\n",
       "      <td>H</td>\n",
       "      <td>0</td>\n",
       "      <td>0</td>\n",
       "      <td>D</td>\n",
       "      <td>...</td>\n",
       "      <td>2.06</td>\n",
       "      <td>1.99</td>\n",
       "      <td>1.60</td>\n",
       "      <td>3.77</td>\n",
       "      <td>7.22</td>\n",
       "      <td>Win</td>\n",
       "      <td>Lose</td>\n",
       "      <td>3</td>\n",
       "      <td>0</td>\n",
       "      <td>0</td>\n",
       "    </tr>\n",
       "    <tr>\n",
       "      <th>84</th>\n",
       "      <td>SP1</td>\n",
       "      <td>21/10/2018</td>\n",
       "      <td>Betis</td>\n",
       "      <td>Valladolid</td>\n",
       "      <td>0</td>\n",
       "      <td>1</td>\n",
       "      <td>A</td>\n",
       "      <td>0</td>\n",
       "      <td>1</td>\n",
       "      <td>A</td>\n",
       "      <td>...</td>\n",
       "      <td>1.85</td>\n",
       "      <td>1.75</td>\n",
       "      <td>1.56</td>\n",
       "      <td>4.13</td>\n",
       "      <td>6.70</td>\n",
       "      <td>Lose</td>\n",
       "      <td>Win</td>\n",
       "      <td>0</td>\n",
       "      <td>3</td>\n",
       "      <td>0</td>\n",
       "    </tr>\n",
       "    <tr>\n",
       "      <th>98</th>\n",
       "      <td>SP1</td>\n",
       "      <td>28/10/2018</td>\n",
       "      <td>Getafe</td>\n",
       "      <td>Betis</td>\n",
       "      <td>2</td>\n",
       "      <td>0</td>\n",
       "      <td>H</td>\n",
       "      <td>0</td>\n",
       "      <td>0</td>\n",
       "      <td>D</td>\n",
       "      <td>...</td>\n",
       "      <td>1.88</td>\n",
       "      <td>1.83</td>\n",
       "      <td>2.65</td>\n",
       "      <td>3.10</td>\n",
       "      <td>3.08</td>\n",
       "      <td>Win</td>\n",
       "      <td>Lose</td>\n",
       "      <td>3</td>\n",
       "      <td>0</td>\n",
       "      <td>0</td>\n",
       "    </tr>\n",
       "    <tr>\n",
       "      <th>104</th>\n",
       "      <td>SP1</td>\n",
       "      <td>04/11/2018</td>\n",
       "      <td>Betis</td>\n",
       "      <td>Celta</td>\n",
       "      <td>3</td>\n",
       "      <td>3</td>\n",
       "      <td>D</td>\n",
       "      <td>1</td>\n",
       "      <td>0</td>\n",
       "      <td>H</td>\n",
       "      <td>...</td>\n",
       "      <td>1.85</td>\n",
       "      <td>1.81</td>\n",
       "      <td>1.77</td>\n",
       "      <td>3.86</td>\n",
       "      <td>4.91</td>\n",
       "      <td>Draw</td>\n",
       "      <td>Draw</td>\n",
       "      <td>1</td>\n",
       "      <td>1</td>\n",
       "      <td>1</td>\n",
       "    </tr>\n",
       "    <tr>\n",
       "      <th>116</th>\n",
       "      <td>SP1</td>\n",
       "      <td>11/11/2018</td>\n",
       "      <td>Barcelona</td>\n",
       "      <td>Betis</td>\n",
       "      <td>3</td>\n",
       "      <td>4</td>\n",
       "      <td>A</td>\n",
       "      <td>0</td>\n",
       "      <td>2</td>\n",
       "      <td>A</td>\n",
       "      <td>...</td>\n",
       "      <td>2.02</td>\n",
       "      <td>1.95</td>\n",
       "      <td>1.19</td>\n",
       "      <td>7.71</td>\n",
       "      <td>15.00</td>\n",
       "      <td>Lose</td>\n",
       "      <td>Win</td>\n",
       "      <td>0</td>\n",
       "      <td>3</td>\n",
       "      <td>3</td>\n",
       "    </tr>\n",
       "    <tr>\n",
       "      <th>128</th>\n",
       "      <td>SP1</td>\n",
       "      <td>25/11/2018</td>\n",
       "      <td>Villarreal</td>\n",
       "      <td>Betis</td>\n",
       "      <td>2</td>\n",
       "      <td>1</td>\n",
       "      <td>H</td>\n",
       "      <td>0</td>\n",
       "      <td>0</td>\n",
       "      <td>D</td>\n",
       "      <td>...</td>\n",
       "      <td>1.99</td>\n",
       "      <td>1.94</td>\n",
       "      <td>2.12</td>\n",
       "      <td>3.55</td>\n",
       "      <td>3.67</td>\n",
       "      <td>Win</td>\n",
       "      <td>Lose</td>\n",
       "      <td>3</td>\n",
       "      <td>0</td>\n",
       "      <td>0</td>\n",
       "    </tr>\n",
       "    <tr>\n",
       "      <th>137</th>\n",
       "      <td>SP1</td>\n",
       "      <td>02/12/2018</td>\n",
       "      <td>Betis</td>\n",
       "      <td>Sociedad</td>\n",
       "      <td>1</td>\n",
       "      <td>0</td>\n",
       "      <td>H</td>\n",
       "      <td>1</td>\n",
       "      <td>0</td>\n",
       "      <td>H</td>\n",
       "      <td>...</td>\n",
       "      <td>1.96</td>\n",
       "      <td>1.92</td>\n",
       "      <td>1.85</td>\n",
       "      <td>3.76</td>\n",
       "      <td>4.50</td>\n",
       "      <td>Win</td>\n",
       "      <td>Lose</td>\n",
       "      <td>3</td>\n",
       "      <td>0</td>\n",
       "      <td>3</td>\n",
       "    </tr>\n",
       "    <tr>\n",
       "      <th>145</th>\n",
       "      <td>SP1</td>\n",
       "      <td>09/12/2018</td>\n",
       "      <td>Betis</td>\n",
       "      <td>Vallecano</td>\n",
       "      <td>2</td>\n",
       "      <td>0</td>\n",
       "      <td>H</td>\n",
       "      <td>0</td>\n",
       "      <td>0</td>\n",
       "      <td>D</td>\n",
       "      <td>...</td>\n",
       "      <td>1.98</td>\n",
       "      <td>1.93</td>\n",
       "      <td>1.49</td>\n",
       "      <td>4.69</td>\n",
       "      <td>6.79</td>\n",
       "      <td>Win</td>\n",
       "      <td>Lose</td>\n",
       "      <td>3</td>\n",
       "      <td>0</td>\n",
       "      <td>3</td>\n",
       "    </tr>\n",
       "    <tr>\n",
       "      <th>155</th>\n",
       "      <td>SP1</td>\n",
       "      <td>16/12/2018</td>\n",
       "      <td>Espanol</td>\n",
       "      <td>Betis</td>\n",
       "      <td>1</td>\n",
       "      <td>3</td>\n",
       "      <td>A</td>\n",
       "      <td>1</td>\n",
       "      <td>1</td>\n",
       "      <td>D</td>\n",
       "      <td>...</td>\n",
       "      <td>1.90</td>\n",
       "      <td>1.86</td>\n",
       "      <td>2.57</td>\n",
       "      <td>3.35</td>\n",
       "      <td>2.97</td>\n",
       "      <td>Lose</td>\n",
       "      <td>Win</td>\n",
       "      <td>0</td>\n",
       "      <td>3</td>\n",
       "      <td>3</td>\n",
       "    </tr>\n",
       "    <tr>\n",
       "      <th>165</th>\n",
       "      <td>SP1</td>\n",
       "      <td>22/12/2018</td>\n",
       "      <td>Betis</td>\n",
       "      <td>Eibar</td>\n",
       "      <td>1</td>\n",
       "      <td>1</td>\n",
       "      <td>D</td>\n",
       "      <td>1</td>\n",
       "      <td>0</td>\n",
       "      <td>H</td>\n",
       "      <td>...</td>\n",
       "      <td>1.63</td>\n",
       "      <td>1.57</td>\n",
       "      <td>1.85</td>\n",
       "      <td>3.84</td>\n",
       "      <td>4.43</td>\n",
       "      <td>Draw</td>\n",
       "      <td>Draw</td>\n",
       "      <td>1</td>\n",
       "      <td>1</td>\n",
       "      <td>1</td>\n",
       "    </tr>\n",
       "    <tr>\n",
       "      <th>173</th>\n",
       "      <td>SP1</td>\n",
       "      <td>05/01/2019</td>\n",
       "      <td>Huesca</td>\n",
       "      <td>Betis</td>\n",
       "      <td>2</td>\n",
       "      <td>1</td>\n",
       "      <td>H</td>\n",
       "      <td>0</td>\n",
       "      <td>0</td>\n",
       "      <td>D</td>\n",
       "      <td>...</td>\n",
       "      <td>1.99</td>\n",
       "      <td>1.94</td>\n",
       "      <td>3.27</td>\n",
       "      <td>3.55</td>\n",
       "      <td>2.29</td>\n",
       "      <td>Win</td>\n",
       "      <td>Lose</td>\n",
       "      <td>3</td>\n",
       "      <td>0</td>\n",
       "      <td>0</td>\n",
       "    </tr>\n",
       "    <tr>\n",
       "      <th>188</th>\n",
       "      <td>SP1</td>\n",
       "      <td>13/01/2019</td>\n",
       "      <td>Betis</td>\n",
       "      <td>Real Madrid</td>\n",
       "      <td>1</td>\n",
       "      <td>2</td>\n",
       "      <td>A</td>\n",
       "      <td>0</td>\n",
       "      <td>1</td>\n",
       "      <td>A</td>\n",
       "      <td>...</td>\n",
       "      <td>1.89</td>\n",
       "      <td>1.85</td>\n",
       "      <td>3.06</td>\n",
       "      <td>3.77</td>\n",
       "      <td>2.31</td>\n",
       "      <td>Lose</td>\n",
       "      <td>Win</td>\n",
       "      <td>0</td>\n",
       "      <td>3</td>\n",
       "      <td>0</td>\n",
       "    </tr>\n",
       "    <tr>\n",
       "      <th>195</th>\n",
       "      <td>SP1</td>\n",
       "      <td>20/01/2019</td>\n",
       "      <td>Betis</td>\n",
       "      <td>Girona</td>\n",
       "      <td>3</td>\n",
       "      <td>2</td>\n",
       "      <td>H</td>\n",
       "      <td>1</td>\n",
       "      <td>2</td>\n",
       "      <td>A</td>\n",
       "      <td>...</td>\n",
       "      <td>1.80</td>\n",
       "      <td>1.73</td>\n",
       "      <td>1.65</td>\n",
       "      <td>3.97</td>\n",
       "      <td>5.92</td>\n",
       "      <td>Win</td>\n",
       "      <td>Lose</td>\n",
       "      <td>3</td>\n",
       "      <td>0</td>\n",
       "      <td>3</td>\n",
       "    </tr>\n",
       "    <tr>\n",
       "      <th>204</th>\n",
       "      <td>SP1</td>\n",
       "      <td>27/01/2019</td>\n",
       "      <td>Ath Bilbao</td>\n",
       "      <td>Betis</td>\n",
       "      <td>1</td>\n",
       "      <td>0</td>\n",
       "      <td>H</td>\n",
       "      <td>1</td>\n",
       "      <td>0</td>\n",
       "      <td>H</td>\n",
       "      <td>...</td>\n",
       "      <td>2.12</td>\n",
       "      <td>2.08</td>\n",
       "      <td>2.10</td>\n",
       "      <td>3.30</td>\n",
       "      <td>4.05</td>\n",
       "      <td>Win</td>\n",
       "      <td>Lose</td>\n",
       "      <td>3</td>\n",
       "      <td>0</td>\n",
       "      <td>0</td>\n",
       "    </tr>\n",
       "    <tr>\n",
       "      <th>215</th>\n",
       "      <td>SP1</td>\n",
       "      <td>03/02/2019</td>\n",
       "      <td>Betis</td>\n",
       "      <td>Ath Madrid</td>\n",
       "      <td>1</td>\n",
       "      <td>0</td>\n",
       "      <td>H</td>\n",
       "      <td>0</td>\n",
       "      <td>0</td>\n",
       "      <td>D</td>\n",
       "      <td>...</td>\n",
       "      <td>1.80</td>\n",
       "      <td>1.75</td>\n",
       "      <td>4.05</td>\n",
       "      <td>3.31</td>\n",
       "      <td>2.10</td>\n",
       "      <td>Win</td>\n",
       "      <td>Lose</td>\n",
       "      <td>3</td>\n",
       "      <td>0</td>\n",
       "      <td>3</td>\n",
       "    </tr>\n",
       "    <tr>\n",
       "      <th>226</th>\n",
       "      <td>SP1</td>\n",
       "      <td>10/02/2019</td>\n",
       "      <td>Leganes</td>\n",
       "      <td>Betis</td>\n",
       "      <td>3</td>\n",
       "      <td>0</td>\n",
       "      <td>H</td>\n",
       "      <td>2</td>\n",
       "      <td>0</td>\n",
       "      <td>H</td>\n",
       "      <td>...</td>\n",
       "      <td>1.94</td>\n",
       "      <td>1.89</td>\n",
       "      <td>2.08</td>\n",
       "      <td>3.28</td>\n",
       "      <td>4.16</td>\n",
       "      <td>Win</td>\n",
       "      <td>Lose</td>\n",
       "      <td>3</td>\n",
       "      <td>0</td>\n",
       "      <td>0</td>\n",
       "    </tr>\n",
       "    <tr>\n",
       "      <th>235</th>\n",
       "      <td>SP1</td>\n",
       "      <td>17/02/2019</td>\n",
       "      <td>Betis</td>\n",
       "      <td>Alaves</td>\n",
       "      <td>1</td>\n",
       "      <td>1</td>\n",
       "      <td>D</td>\n",
       "      <td>1</td>\n",
       "      <td>1</td>\n",
       "      <td>D</td>\n",
       "      <td>...</td>\n",
       "      <td>1.59</td>\n",
       "      <td>1.54</td>\n",
       "      <td>1.76</td>\n",
       "      <td>3.55</td>\n",
       "      <td>5.63</td>\n",
       "      <td>Draw</td>\n",
       "      <td>Draw</td>\n",
       "      <td>1</td>\n",
       "      <td>1</td>\n",
       "      <td>1</td>\n",
       "    </tr>\n",
       "    <tr>\n",
       "      <th>248</th>\n",
       "      <td>SP1</td>\n",
       "      <td>24/02/2019</td>\n",
       "      <td>Valladolid</td>\n",
       "      <td>Betis</td>\n",
       "      <td>0</td>\n",
       "      <td>2</td>\n",
       "      <td>A</td>\n",
       "      <td>0</td>\n",
       "      <td>1</td>\n",
       "      <td>A</td>\n",
       "      <td>...</td>\n",
       "      <td>1.71</td>\n",
       "      <td>1.67</td>\n",
       "      <td>2.41</td>\n",
       "      <td>3.21</td>\n",
       "      <td>3.34</td>\n",
       "      <td>Lose</td>\n",
       "      <td>Win</td>\n",
       "      <td>0</td>\n",
       "      <td>3</td>\n",
       "      <td>3</td>\n",
       "    </tr>\n",
       "    <tr>\n",
       "      <th>255</th>\n",
       "      <td>SP1</td>\n",
       "      <td>03/03/2019</td>\n",
       "      <td>Betis</td>\n",
       "      <td>Getafe</td>\n",
       "      <td>1</td>\n",
       "      <td>2</td>\n",
       "      <td>A</td>\n",
       "      <td>0</td>\n",
       "      <td>2</td>\n",
       "      <td>A</td>\n",
       "      <td>...</td>\n",
       "      <td>1.91</td>\n",
       "      <td>1.85</td>\n",
       "      <td>2.40</td>\n",
       "      <td>3.13</td>\n",
       "      <td>3.45</td>\n",
       "      <td>Lose</td>\n",
       "      <td>Win</td>\n",
       "      <td>0</td>\n",
       "      <td>3</td>\n",
       "      <td>0</td>\n",
       "    </tr>\n",
       "    <tr>\n",
       "      <th>265</th>\n",
       "      <td>SP1</td>\n",
       "      <td>10/03/2019</td>\n",
       "      <td>Celta</td>\n",
       "      <td>Betis</td>\n",
       "      <td>0</td>\n",
       "      <td>1</td>\n",
       "      <td>A</td>\n",
       "      <td>0</td>\n",
       "      <td>0</td>\n",
       "      <td>D</td>\n",
       "      <td>...</td>\n",
       "      <td>1.81</td>\n",
       "      <td>1.77</td>\n",
       "      <td>2.56</td>\n",
       "      <td>3.37</td>\n",
       "      <td>2.96</td>\n",
       "      <td>Lose</td>\n",
       "      <td>Win</td>\n",
       "      <td>0</td>\n",
       "      <td>3</td>\n",
       "      <td>3</td>\n",
       "    </tr>\n",
       "    <tr>\n",
       "      <th>275</th>\n",
       "      <td>SP1</td>\n",
       "      <td>17/03/2019</td>\n",
       "      <td>Betis</td>\n",
       "      <td>Barcelona</td>\n",
       "      <td>1</td>\n",
       "      <td>4</td>\n",
       "      <td>A</td>\n",
       "      <td>0</td>\n",
       "      <td>2</td>\n",
       "      <td>A</td>\n",
       "      <td>...</td>\n",
       "      <td>1.75</td>\n",
       "      <td>1.69</td>\n",
       "      <td>6.30</td>\n",
       "      <td>4.63</td>\n",
       "      <td>1.52</td>\n",
       "      <td>Lose</td>\n",
       "      <td>Win</td>\n",
       "      <td>0</td>\n",
       "      <td>3</td>\n",
       "      <td>0</td>\n",
       "    </tr>\n",
       "    <tr>\n",
       "      <th>289</th>\n",
       "      <td>SP1</td>\n",
       "      <td>31/03/2019</td>\n",
       "      <td>Vallecano</td>\n",
       "      <td>Betis</td>\n",
       "      <td>1</td>\n",
       "      <td>1</td>\n",
       "      <td>D</td>\n",
       "      <td>1</td>\n",
       "      <td>0</td>\n",
       "      <td>H</td>\n",
       "      <td>...</td>\n",
       "      <td>2.22</td>\n",
       "      <td>2.16</td>\n",
       "      <td>3.16</td>\n",
       "      <td>3.64</td>\n",
       "      <td>2.30</td>\n",
       "      <td>Draw</td>\n",
       "      <td>Draw</td>\n",
       "      <td>1</td>\n",
       "      <td>1</td>\n",
       "      <td>1</td>\n",
       "    </tr>\n",
       "    <tr>\n",
       "      <th>299</th>\n",
       "      <td>SP1</td>\n",
       "      <td>04/04/2019</td>\n",
       "      <td>Sociedad</td>\n",
       "      <td>Betis</td>\n",
       "      <td>2</td>\n",
       "      <td>1</td>\n",
       "      <td>H</td>\n",
       "      <td>1</td>\n",
       "      <td>0</td>\n",
       "      <td>H</td>\n",
       "      <td>...</td>\n",
       "      <td>2.02</td>\n",
       "      <td>1.96</td>\n",
       "      <td>2.27</td>\n",
       "      <td>3.45</td>\n",
       "      <td>3.39</td>\n",
       "      <td>Win</td>\n",
       "      <td>Lose</td>\n",
       "      <td>3</td>\n",
       "      <td>0</td>\n",
       "      <td>0</td>\n",
       "    </tr>\n",
       "    <tr>\n",
       "      <th>305</th>\n",
       "      <td>SP1</td>\n",
       "      <td>07/04/2019</td>\n",
       "      <td>Betis</td>\n",
       "      <td>Villarreal</td>\n",
       "      <td>2</td>\n",
       "      <td>1</td>\n",
       "      <td>H</td>\n",
       "      <td>1</td>\n",
       "      <td>1</td>\n",
       "      <td>D</td>\n",
       "      <td>...</td>\n",
       "      <td>1.96</td>\n",
       "      <td>1.90</td>\n",
       "      <td>2.34</td>\n",
       "      <td>3.49</td>\n",
       "      <td>3.22</td>\n",
       "      <td>Win</td>\n",
       "      <td>Lose</td>\n",
       "      <td>3</td>\n",
       "      <td>0</td>\n",
       "      <td>3</td>\n",
       "    </tr>\n",
       "    <tr>\n",
       "      <th>313</th>\n",
       "      <td>SP1</td>\n",
       "      <td>13/04/2019</td>\n",
       "      <td>Sevilla</td>\n",
       "      <td>Betis</td>\n",
       "      <td>3</td>\n",
       "      <td>2</td>\n",
       "      <td>H</td>\n",
       "      <td>1</td>\n",
       "      <td>0</td>\n",
       "      <td>H</td>\n",
       "      <td>...</td>\n",
       "      <td>1.75</td>\n",
       "      <td>1.71</td>\n",
       "      <td>1.58</td>\n",
       "      <td>4.44</td>\n",
       "      <td>5.78</td>\n",
       "      <td>Win</td>\n",
       "      <td>Lose</td>\n",
       "      <td>3</td>\n",
       "      <td>0</td>\n",
       "      <td>0</td>\n",
       "    </tr>\n",
       "    <tr>\n",
       "      <th>325</th>\n",
       "      <td>SP1</td>\n",
       "      <td>21/04/2019</td>\n",
       "      <td>Betis</td>\n",
       "      <td>Valencia</td>\n",
       "      <td>1</td>\n",
       "      <td>2</td>\n",
       "      <td>A</td>\n",
       "      <td>0</td>\n",
       "      <td>1</td>\n",
       "      <td>A</td>\n",
       "      <td>...</td>\n",
       "      <td>2.16</td>\n",
       "      <td>2.12</td>\n",
       "      <td>3.45</td>\n",
       "      <td>3.48</td>\n",
       "      <td>2.23</td>\n",
       "      <td>Lose</td>\n",
       "      <td>Win</td>\n",
       "      <td>0</td>\n",
       "      <td>3</td>\n",
       "      <td>0</td>\n",
       "    </tr>\n",
       "    <tr>\n",
       "      <th>336</th>\n",
       "      <td>SP1</td>\n",
       "      <td>24/04/2019</td>\n",
       "      <td>Levante</td>\n",
       "      <td>Betis</td>\n",
       "      <td>4</td>\n",
       "      <td>0</td>\n",
       "      <td>H</td>\n",
       "      <td>2</td>\n",
       "      <td>0</td>\n",
       "      <td>H</td>\n",
       "      <td>...</td>\n",
       "      <td>2.07</td>\n",
       "      <td>2.03</td>\n",
       "      <td>2.44</td>\n",
       "      <td>3.75</td>\n",
       "      <td>2.87</td>\n",
       "      <td>Win</td>\n",
       "      <td>Lose</td>\n",
       "      <td>3</td>\n",
       "      <td>0</td>\n",
       "      <td>0</td>\n",
       "    </tr>\n",
       "    <tr>\n",
       "      <th>349</th>\n",
       "      <td>SP1</td>\n",
       "      <td>29/04/2019</td>\n",
       "      <td>Betis</td>\n",
       "      <td>Espanol</td>\n",
       "      <td>1</td>\n",
       "      <td>1</td>\n",
       "      <td>D</td>\n",
       "      <td>0</td>\n",
       "      <td>1</td>\n",
       "      <td>A</td>\n",
       "      <td>...</td>\n",
       "      <td>1.71</td>\n",
       "      <td>1.67</td>\n",
       "      <td>1.85</td>\n",
       "      <td>3.86</td>\n",
       "      <td>4.40</td>\n",
       "      <td>Draw</td>\n",
       "      <td>Draw</td>\n",
       "      <td>1</td>\n",
       "      <td>1</td>\n",
       "      <td>1</td>\n",
       "    </tr>\n",
       "    <tr>\n",
       "      <th>355</th>\n",
       "      <td>SP1</td>\n",
       "      <td>05/05/2019</td>\n",
       "      <td>Eibar</td>\n",
       "      <td>Betis</td>\n",
       "      <td>1</td>\n",
       "      <td>0</td>\n",
       "      <td>H</td>\n",
       "      <td>1</td>\n",
       "      <td>0</td>\n",
       "      <td>H</td>\n",
       "      <td>...</td>\n",
       "      <td>1.91</td>\n",
       "      <td>1.84</td>\n",
       "      <td>1.95</td>\n",
       "      <td>4.00</td>\n",
       "      <td>3.77</td>\n",
       "      <td>Win</td>\n",
       "      <td>Lose</td>\n",
       "      <td>3</td>\n",
       "      <td>0</td>\n",
       "      <td>0</td>\n",
       "    </tr>\n",
       "    <tr>\n",
       "      <th>363</th>\n",
       "      <td>SP1</td>\n",
       "      <td>12/05/2019</td>\n",
       "      <td>Betis</td>\n",
       "      <td>Huesca</td>\n",
       "      <td>2</td>\n",
       "      <td>1</td>\n",
       "      <td>H</td>\n",
       "      <td>1</td>\n",
       "      <td>0</td>\n",
       "      <td>H</td>\n",
       "      <td>...</td>\n",
       "      <td>1.98</td>\n",
       "      <td>1.91</td>\n",
       "      <td>1.51</td>\n",
       "      <td>4.87</td>\n",
       "      <td>6.10</td>\n",
       "      <td>Win</td>\n",
       "      <td>Lose</td>\n",
       "      <td>3</td>\n",
       "      <td>0</td>\n",
       "      <td>3</td>\n",
       "    </tr>\n",
       "    <tr>\n",
       "      <th>379</th>\n",
       "      <td>SP1</td>\n",
       "      <td>19/05/2019</td>\n",
       "      <td>Real Madrid</td>\n",
       "      <td>Betis</td>\n",
       "      <td>0</td>\n",
       "      <td>2</td>\n",
       "      <td>A</td>\n",
       "      <td>0</td>\n",
       "      <td>0</td>\n",
       "      <td>D</td>\n",
       "      <td>...</td>\n",
       "      <td>2.01</td>\n",
       "      <td>1.98</td>\n",
       "      <td>1.33</td>\n",
       "      <td>6.38</td>\n",
       "      <td>8.09</td>\n",
       "      <td>Lose</td>\n",
       "      <td>Win</td>\n",
       "      <td>0</td>\n",
       "      <td>3</td>\n",
       "      <td>3</td>\n",
       "    </tr>\n",
       "  </tbody>\n",
       "</table>\n",
       "<p>38 rows × 66 columns</p>\n",
       "</div>"
      ],
      "text/plain": [
       "     Div        Date     HomeTeam     AwayTeam  FTHG  FTAG FTR  HTHG  HTAG  \\\n",
       "0    SP1  17/08/2018        Betis      Levante     0     3   A     0     1   \n",
       "12   SP1  25/08/2018       Alaves        Betis     0     0   D     0     0   \n",
       "27   SP1  02/09/2018        Betis      Sevilla     1     0   H     0     0   \n",
       "33   SP1  15/09/2018     Valencia        Betis     0     0   D     0     0   \n",
       "46   SP1  23/09/2018        Betis   Ath Bilbao     2     2   D     0     2   \n",
       "57   SP1  27/09/2018       Girona        Betis     0     1   A     0     0   \n",
       "64   SP1  30/09/2018        Betis      Leganes     1     0   H     0     0   \n",
       "74   SP1  07/10/2018   Ath Madrid        Betis     1     0   H     0     0   \n",
       "84   SP1  21/10/2018        Betis   Valladolid     0     1   A     0     1   \n",
       "98   SP1  28/10/2018       Getafe        Betis     2     0   H     0     0   \n",
       "104  SP1  04/11/2018        Betis        Celta     3     3   D     1     0   \n",
       "116  SP1  11/11/2018    Barcelona        Betis     3     4   A     0     2   \n",
       "128  SP1  25/11/2018   Villarreal        Betis     2     1   H     0     0   \n",
       "137  SP1  02/12/2018        Betis     Sociedad     1     0   H     1     0   \n",
       "145  SP1  09/12/2018        Betis    Vallecano     2     0   H     0     0   \n",
       "155  SP1  16/12/2018      Espanol        Betis     1     3   A     1     1   \n",
       "165  SP1  22/12/2018        Betis        Eibar     1     1   D     1     0   \n",
       "173  SP1  05/01/2019       Huesca        Betis     2     1   H     0     0   \n",
       "188  SP1  13/01/2019        Betis  Real Madrid     1     2   A     0     1   \n",
       "195  SP1  20/01/2019        Betis       Girona     3     2   H     1     2   \n",
       "204  SP1  27/01/2019   Ath Bilbao        Betis     1     0   H     1     0   \n",
       "215  SP1  03/02/2019        Betis   Ath Madrid     1     0   H     0     0   \n",
       "226  SP1  10/02/2019      Leganes        Betis     3     0   H     2     0   \n",
       "235  SP1  17/02/2019        Betis       Alaves     1     1   D     1     1   \n",
       "248  SP1  24/02/2019   Valladolid        Betis     0     2   A     0     1   \n",
       "255  SP1  03/03/2019        Betis       Getafe     1     2   A     0     2   \n",
       "265  SP1  10/03/2019        Celta        Betis     0     1   A     0     0   \n",
       "275  SP1  17/03/2019        Betis    Barcelona     1     4   A     0     2   \n",
       "289  SP1  31/03/2019    Vallecano        Betis     1     1   D     1     0   \n",
       "299  SP1  04/04/2019     Sociedad        Betis     2     1   H     1     0   \n",
       "305  SP1  07/04/2019        Betis   Villarreal     2     1   H     1     1   \n",
       "313  SP1  13/04/2019      Sevilla        Betis     3     2   H     1     0   \n",
       "325  SP1  21/04/2019        Betis     Valencia     1     2   A     0     1   \n",
       "336  SP1  24/04/2019      Levante        Betis     4     0   H     2     0   \n",
       "349  SP1  29/04/2019        Betis      Espanol     1     1   D     0     1   \n",
       "355  SP1  05/05/2019        Eibar        Betis     1     0   H     1     0   \n",
       "363  SP1  12/05/2019        Betis       Huesca     2     1   H     1     0   \n",
       "379  SP1  19/05/2019  Real Madrid        Betis     0     2   A     0     0   \n",
       "\n",
       "    HTR  ...  BbMxAHA  BbAvAHA  PSCH  PSCD   PSCA  FTR_home  FTR_away  \\\n",
       "0     A  ...     2.07     2.00  1.59  4.42   5.89      Lose       Win   \n",
       "12    D  ...     1.94     1.86  3.05  3.36   2.50      Draw      Draw   \n",
       "27    D  ...     2.19     2.13  2.84  3.60   2.53       Win      Lose   \n",
       "33    D  ...     1.96     1.91  1.70  4.22   4.95      Draw      Draw   \n",
       "46    A  ...     2.01     1.97  2.16  3.41   3.72      Draw      Draw   \n",
       "57    D  ...     1.76     1.73  2.54  3.38   2.98      Lose       Win   \n",
       "64    D  ...     1.75     1.67  1.78  3.66   5.16       Win      Lose   \n",
       "74    D  ...     2.06     1.99  1.60  3.77   7.22       Win      Lose   \n",
       "84    A  ...     1.85     1.75  1.56  4.13   6.70      Lose       Win   \n",
       "98    D  ...     1.88     1.83  2.65  3.10   3.08       Win      Lose   \n",
       "104   H  ...     1.85     1.81  1.77  3.86   4.91      Draw      Draw   \n",
       "116   A  ...     2.02     1.95  1.19  7.71  15.00      Lose       Win   \n",
       "128   D  ...     1.99     1.94  2.12  3.55   3.67       Win      Lose   \n",
       "137   H  ...     1.96     1.92  1.85  3.76   4.50       Win      Lose   \n",
       "145   D  ...     1.98     1.93  1.49  4.69   6.79       Win      Lose   \n",
       "155   D  ...     1.90     1.86  2.57  3.35   2.97      Lose       Win   \n",
       "165   H  ...     1.63     1.57  1.85  3.84   4.43      Draw      Draw   \n",
       "173   D  ...     1.99     1.94  3.27  3.55   2.29       Win      Lose   \n",
       "188   A  ...     1.89     1.85  3.06  3.77   2.31      Lose       Win   \n",
       "195   A  ...     1.80     1.73  1.65  3.97   5.92       Win      Lose   \n",
       "204   H  ...     2.12     2.08  2.10  3.30   4.05       Win      Lose   \n",
       "215   D  ...     1.80     1.75  4.05  3.31   2.10       Win      Lose   \n",
       "226   H  ...     1.94     1.89  2.08  3.28   4.16       Win      Lose   \n",
       "235   D  ...     1.59     1.54  1.76  3.55   5.63      Draw      Draw   \n",
       "248   A  ...     1.71     1.67  2.41  3.21   3.34      Lose       Win   \n",
       "255   A  ...     1.91     1.85  2.40  3.13   3.45      Lose       Win   \n",
       "265   D  ...     1.81     1.77  2.56  3.37   2.96      Lose       Win   \n",
       "275   A  ...     1.75     1.69  6.30  4.63   1.52      Lose       Win   \n",
       "289   H  ...     2.22     2.16  3.16  3.64   2.30      Draw      Draw   \n",
       "299   H  ...     2.02     1.96  2.27  3.45   3.39       Win      Lose   \n",
       "305   D  ...     1.96     1.90  2.34  3.49   3.22       Win      Lose   \n",
       "313   H  ...     1.75     1.71  1.58  4.44   5.78       Win      Lose   \n",
       "325   A  ...     2.16     2.12  3.45  3.48   2.23      Lose       Win   \n",
       "336   H  ...     2.07     2.03  2.44  3.75   2.87       Win      Lose   \n",
       "349   A  ...     1.71     1.67  1.85  3.86   4.40      Draw      Draw   \n",
       "355   H  ...     1.91     1.84  1.95  4.00   3.77       Win      Lose   \n",
       "363   H  ...     1.98     1.91  1.51  4.87   6.10       Win      Lose   \n",
       "379   D  ...     2.01     1.98  1.33  6.38   8.09      Lose       Win   \n",
       "\n",
       "     Home_point  Away_point  points  \n",
       "0             0           3       0  \n",
       "12            1           1       1  \n",
       "27            3           0       3  \n",
       "33            1           1       1  \n",
       "46            1           1       1  \n",
       "57            0           3       3  \n",
       "64            3           0       3  \n",
       "74            3           0       0  \n",
       "84            0           3       0  \n",
       "98            3           0       0  \n",
       "104           1           1       1  \n",
       "116           0           3       3  \n",
       "128           3           0       0  \n",
       "137           3           0       3  \n",
       "145           3           0       3  \n",
       "155           0           3       3  \n",
       "165           1           1       1  \n",
       "173           3           0       0  \n",
       "188           0           3       0  \n",
       "195           3           0       3  \n",
       "204           3           0       0  \n",
       "215           3           0       3  \n",
       "226           3           0       0  \n",
       "235           1           1       1  \n",
       "248           0           3       3  \n",
       "255           0           3       0  \n",
       "265           0           3       3  \n",
       "275           0           3       0  \n",
       "289           1           1       1  \n",
       "299           3           0       0  \n",
       "305           3           0       3  \n",
       "313           3           0       0  \n",
       "325           0           3       0  \n",
       "336           3           0       0  \n",
       "349           1           1       1  \n",
       "355           3           0       0  \n",
       "363           3           0       3  \n",
       "379           0           3       3  \n",
       "\n",
       "[38 rows x 66 columns]"
      ]
     },
     "execution_count": 153,
     "metadata": {},
     "output_type": "execute_result"
    }
   ],
   "source": [
    "filter_team(list_df[0])"
   ]
  },
  {
   "cell_type": "code",
   "execution_count": 145,
   "metadata": {},
   "outputs": [],
   "source": [
    "def compute_ranking(df2):\n",
    "    df = filter_team(df2)\n",
    "    list_points = []\n",
    "    for index,item in enumerate(df['HomeTeam']):\n",
    "        if df['FTR'][index] == 'D':\n",
    "            list_points.append(1)\n",
    "        elif item == 'Betis' and df['FTR'][index] == 'H':\n",
    "            list_points.append(3)\n",
    "        elif item == 'Betis' and df['FTR'][index] == 'A':\n",
    "            list_points.append(0)\n",
    "        elif df['FTR'][index] == 'H':\n",
    "            list_points.append(0)\n",
    "        else:\n",
    "            list_points.append(3)\n",
    "    df['points'] = list_points\n",
    "    return filter_team(df2)"
   ]
  },
  {
   "cell_type": "code",
   "execution_count": 147,
   "metadata": {},
   "outputs": [
    {
     "ename": "KeyError",
     "evalue": "1",
     "output_type": "error",
     "traceback": [
      "\u001b[0;31m---------------------------------------------------------------------------\u001b[0m",
      "\u001b[0;31mKeyError\u001b[0m                                  Traceback (most recent call last)",
      "File \u001b[0;32m~/.pyenv/versions/3.8.12/envs/beat_the_bookies/lib/python3.8/site-packages/pandas/core/indexes/base.py:3629\u001b[0m, in \u001b[0;36mIndex.get_loc\u001b[0;34m(self, key, method, tolerance)\u001b[0m\n\u001b[1;32m   3628\u001b[0m \u001b[39mtry\u001b[39;00m:\n\u001b[0;32m-> 3629\u001b[0m     \u001b[39mreturn\u001b[39;00m \u001b[39mself\u001b[39;49m\u001b[39m.\u001b[39;49m_engine\u001b[39m.\u001b[39;49mget_loc(casted_key)\n\u001b[1;32m   3630\u001b[0m \u001b[39mexcept\u001b[39;00m \u001b[39mKeyError\u001b[39;00m \u001b[39mas\u001b[39;00m err:\n",
      "File \u001b[0;32m~/.pyenv/versions/3.8.12/envs/beat_the_bookies/lib/python3.8/site-packages/pandas/_libs/index.pyx:136\u001b[0m, in \u001b[0;36mpandas._libs.index.IndexEngine.get_loc\u001b[0;34m()\u001b[0m\n",
      "File \u001b[0;32m~/.pyenv/versions/3.8.12/envs/beat_the_bookies/lib/python3.8/site-packages/pandas/_libs/index.pyx:163\u001b[0m, in \u001b[0;36mpandas._libs.index.IndexEngine.get_loc\u001b[0;34m()\u001b[0m\n",
      "File \u001b[0;32mpandas/_libs/hashtable_class_helper.pxi:2131\u001b[0m, in \u001b[0;36mpandas._libs.hashtable.Int64HashTable.get_item\u001b[0;34m()\u001b[0m\n",
      "File \u001b[0;32mpandas/_libs/hashtable_class_helper.pxi:2140\u001b[0m, in \u001b[0;36mpandas._libs.hashtable.Int64HashTable.get_item\u001b[0;34m()\u001b[0m\n",
      "\u001b[0;31mKeyError\u001b[0m: 1",
      "\nThe above exception was the direct cause of the following exception:\n",
      "\u001b[0;31mKeyError\u001b[0m                                  Traceback (most recent call last)",
      "Cell \u001b[0;32mIn [147], line 1\u001b[0m\n\u001b[0;32m----> 1\u001b[0m \u001b[43mcompute_ranking\u001b[49m\u001b[43m(\u001b[49m\u001b[43mlist_df\u001b[49m\u001b[43m[\u001b[49m\u001b[38;5;241;43m0\u001b[39;49m\u001b[43m]\u001b[49m\u001b[43m)\u001b[49m\n",
      "Cell \u001b[0;32mIn [145], line 5\u001b[0m, in \u001b[0;36mcompute_ranking\u001b[0;34m(df2)\u001b[0m\n\u001b[1;32m      3\u001b[0m list_points \u001b[38;5;241m=\u001b[39m []\n\u001b[1;32m      4\u001b[0m \u001b[38;5;28;01mfor\u001b[39;00m index,item \u001b[38;5;129;01min\u001b[39;00m \u001b[38;5;28menumerate\u001b[39m(df[\u001b[38;5;124m'\u001b[39m\u001b[38;5;124mHomeTeam\u001b[39m\u001b[38;5;124m'\u001b[39m]):\n\u001b[0;32m----> 5\u001b[0m     \u001b[38;5;28;01mif\u001b[39;00m \u001b[43mdf\u001b[49m\u001b[43m[\u001b[49m\u001b[38;5;124;43m'\u001b[39;49m\u001b[38;5;124;43mFTR\u001b[39;49m\u001b[38;5;124;43m'\u001b[39;49m\u001b[43m]\u001b[49m\u001b[43m[\u001b[49m\u001b[43mindex\u001b[49m\u001b[43m]\u001b[49m \u001b[38;5;241m==\u001b[39m \u001b[38;5;124m'\u001b[39m\u001b[38;5;124mD\u001b[39m\u001b[38;5;124m'\u001b[39m:\n\u001b[1;32m      6\u001b[0m         list_points\u001b[38;5;241m.\u001b[39mappend(\u001b[38;5;241m1\u001b[39m)\n\u001b[1;32m      7\u001b[0m     \u001b[38;5;28;01melif\u001b[39;00m item \u001b[38;5;241m==\u001b[39m \u001b[38;5;124m'\u001b[39m\u001b[38;5;124mBetis\u001b[39m\u001b[38;5;124m'\u001b[39m \u001b[38;5;129;01mand\u001b[39;00m df[\u001b[38;5;124m'\u001b[39m\u001b[38;5;124mFTR\u001b[39m\u001b[38;5;124m'\u001b[39m][index] \u001b[38;5;241m==\u001b[39m \u001b[38;5;124m'\u001b[39m\u001b[38;5;124mH\u001b[39m\u001b[38;5;124m'\u001b[39m:\n",
      "File \u001b[0;32m~/.pyenv/versions/3.8.12/envs/beat_the_bookies/lib/python3.8/site-packages/pandas/core/series.py:958\u001b[0m, in \u001b[0;36mSeries.__getitem__\u001b[0;34m(self, key)\u001b[0m\n\u001b[1;32m    955\u001b[0m     \u001b[39mreturn\u001b[39;00m \u001b[39mself\u001b[39m\u001b[39m.\u001b[39m_values[key]\n\u001b[1;32m    957\u001b[0m \u001b[39melif\u001b[39;00m key_is_scalar:\n\u001b[0;32m--> 958\u001b[0m     \u001b[39mreturn\u001b[39;00m \u001b[39mself\u001b[39;49m\u001b[39m.\u001b[39;49m_get_value(key)\n\u001b[1;32m    960\u001b[0m \u001b[39mif\u001b[39;00m is_hashable(key):\n\u001b[1;32m    961\u001b[0m     \u001b[39m# Otherwise index.get_value will raise InvalidIndexError\u001b[39;00m\n\u001b[1;32m    962\u001b[0m     \u001b[39mtry\u001b[39;00m:\n\u001b[1;32m    963\u001b[0m         \u001b[39m# For labels that don't resolve as scalars like tuples and frozensets\u001b[39;00m\n",
      "File \u001b[0;32m~/.pyenv/versions/3.8.12/envs/beat_the_bookies/lib/python3.8/site-packages/pandas/core/series.py:1069\u001b[0m, in \u001b[0;36mSeries._get_value\u001b[0;34m(self, label, takeable)\u001b[0m\n\u001b[1;32m   1066\u001b[0m     \u001b[39mreturn\u001b[39;00m \u001b[39mself\u001b[39m\u001b[39m.\u001b[39m_values[label]\n\u001b[1;32m   1068\u001b[0m \u001b[39m# Similar to Index.get_value, but we do not fall back to positional\u001b[39;00m\n\u001b[0;32m-> 1069\u001b[0m loc \u001b[39m=\u001b[39m \u001b[39mself\u001b[39;49m\u001b[39m.\u001b[39;49mindex\u001b[39m.\u001b[39;49mget_loc(label)\n\u001b[1;32m   1070\u001b[0m \u001b[39mreturn\u001b[39;00m \u001b[39mself\u001b[39m\u001b[39m.\u001b[39mindex\u001b[39m.\u001b[39m_get_values_for_loc(\u001b[39mself\u001b[39m, loc, label)\n",
      "File \u001b[0;32m~/.pyenv/versions/3.8.12/envs/beat_the_bookies/lib/python3.8/site-packages/pandas/core/indexes/base.py:3631\u001b[0m, in \u001b[0;36mIndex.get_loc\u001b[0;34m(self, key, method, tolerance)\u001b[0m\n\u001b[1;32m   3629\u001b[0m     \u001b[39mreturn\u001b[39;00m \u001b[39mself\u001b[39m\u001b[39m.\u001b[39m_engine\u001b[39m.\u001b[39mget_loc(casted_key)\n\u001b[1;32m   3630\u001b[0m \u001b[39mexcept\u001b[39;00m \u001b[39mKeyError\u001b[39;00m \u001b[39mas\u001b[39;00m err:\n\u001b[0;32m-> 3631\u001b[0m     \u001b[39mraise\u001b[39;00m \u001b[39mKeyError\u001b[39;00m(key) \u001b[39mfrom\u001b[39;00m \u001b[39merr\u001b[39;00m\n\u001b[1;32m   3632\u001b[0m \u001b[39mexcept\u001b[39;00m \u001b[39mTypeError\u001b[39;00m:\n\u001b[1;32m   3633\u001b[0m     \u001b[39m# If we have a listlike key, _check_indexing_error will raise\u001b[39;00m\n\u001b[1;32m   3634\u001b[0m     \u001b[39m#  InvalidIndexError. Otherwise we fall through and re-raise\u001b[39;00m\n\u001b[1;32m   3635\u001b[0m     \u001b[39m#  the TypeError.\u001b[39;00m\n\u001b[1;32m   3636\u001b[0m     \u001b[39mself\u001b[39m\u001b[39m.\u001b[39m_check_indexing_error(key)\n",
      "\u001b[0;31mKeyError\u001b[0m: 1"
     ]
    }
   ],
   "source": [
    "compute_ranking(list_df[0])"
   ]
  },
  {
   "cell_type": "code",
   "execution_count": 196,
   "metadata": {},
   "outputs": [],
   "source": [
    "def test_func(lis):\n",
    "    counter = 1\n",
    "    while lis[counter] >= lis[counter-1]:\n",
    "        if lis[counter] == lis[counter-1]:\n",
    "            lis.append(lis[counter])\n",
    "            lis.pop(counter)\n",
    "        else:\n",
    "            counter += 1\n",
    "    return lis"
   ]
  },
  {
   "cell_type": "code",
   "execution_count": 197,
   "metadata": {},
   "outputs": [
    {
     "data": {
      "text/plain": [
       "[0, 1, 2, 3, 4, 5, 1, 1, 1, 1, 2, 2, 3, 3, 5]"
      ]
     },
     "execution_count": 197,
     "metadata": {},
     "output_type": "execute_result"
    }
   ],
   "source": [
    "l = [0,1,1,1,1,1,2,2,2,3,3,3,4,5,5]\n",
    "test_func(l)\n"
   ]
  },
  {
   "cell_type": "code",
   "execution_count": 201,
   "metadata": {},
   "outputs": [
    {
     "data": {
      "text/html": [
       "<div>\n",
       "<style scoped>\n",
       "    .dataframe tbody tr th:only-of-type {\n",
       "        vertical-align: middle;\n",
       "    }\n",
       "\n",
       "    .dataframe tbody tr th {\n",
       "        vertical-align: top;\n",
       "    }\n",
       "\n",
       "    .dataframe thead th {\n",
       "        text-align: right;\n",
       "    }\n",
       "</style>\n",
       "<table border=\"1\" class=\"dataframe\">\n",
       "  <thead>\n",
       "    <tr style=\"text-align: right;\">\n",
       "      <th></th>\n",
       "      <th>A</th>\n",
       "      <th>B</th>\n",
       "      <th>C</th>\n",
       "    </tr>\n",
       "  </thead>\n",
       "  <tbody>\n",
       "    <tr>\n",
       "      <th>0</th>\n",
       "      <td>1</td>\n",
       "      <td>3</td>\n",
       "      <td>5</td>\n",
       "    </tr>\n",
       "    <tr>\n",
       "      <th>1</th>\n",
       "      <td>2</td>\n",
       "      <td>4</td>\n",
       "      <td>6</td>\n",
       "    </tr>\n",
       "  </tbody>\n",
       "</table>\n",
       "</div>"
      ],
      "text/plain": [
       "   A  B  C\n",
       "0  1  3  5\n",
       "1  2  4  6"
      ]
     },
     "execution_count": 201,
     "metadata": {},
     "output_type": "execute_result"
    }
   ],
   "source": [
    "l = ['A', 'B', 'C']\n",
    "l2 = [[1,2],[3,4],[5,6]]\n",
    "pd.DataFrame(dict(zip(l,l2)))"
   ]
  },
  {
   "cell_type": "code",
   "execution_count": null,
   "metadata": {},
   "outputs": [],
   "source": []
  }
 ],
 "metadata": {
  "kernelspec": {
   "display_name": "Python 3.8.12 64-bit ('beat_the_bookies')",
   "language": "python",
   "name": "python3"
  },
  "language_info": {
   "codemirror_mode": {
    "name": "ipython",
    "version": 3
   },
   "file_extension": ".py",
   "mimetype": "text/x-python",
   "name": "python",
   "nbconvert_exporter": "python",
   "pygments_lexer": "ipython3",
   "version": "3.8.12"
  },
  "orig_nbformat": 4,
  "vscode": {
   "interpreter": {
    "hash": "129405238e61f32bd0accec78ad1cfb6a98311dba393d6446378db9b9d3610ab"
   }
  }
 },
 "nbformat": 4,
 "nbformat_minor": 2
}
